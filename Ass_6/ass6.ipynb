{
 "cells": [
  {
   "cell_type": "code",
   "execution_count": 7,
   "id": "a8bddaff-0141-473f-a7e0-94f2fde36b1a",
   "metadata": {},
   "outputs": [
    {
     "name": "stdout",
     "output_type": "stream",
     "text": [
      "Requirement already satisfied: tensorflow in c:\\users\\iaste\\appdata\\local\\programs\\python\\python313\\lib\\site-packages (2.20.0)\n",
      "Requirement already satisfied: tensorflow_datasets in c:\\users\\iaste\\appdata\\local\\programs\\python\\python313\\lib\\site-packages (4.9.9)\n",
      "Requirement already satisfied: matplotlib in c:\\users\\iaste\\appdata\\local\\programs\\python\\python313\\lib\\site-packages (3.10.7)\n",
      "Requirement already satisfied: scikit-learn in c:\\users\\iaste\\appdata\\local\\programs\\python\\python313\\lib\\site-packages (1.7.2)\n",
      "Requirement already satisfied: seaborn in c:\\users\\iaste\\appdata\\local\\programs\\python\\python313\\lib\\site-packages (0.13.2)\n",
      "Requirement already satisfied: absl-py>=1.0.0 in c:\\users\\iaste\\appdata\\local\\programs\\python\\python313\\lib\\site-packages (from tensorflow) (2.3.1)\n",
      "Requirement already satisfied: astunparse>=1.6.0 in c:\\users\\iaste\\appdata\\local\\programs\\python\\python313\\lib\\site-packages (from tensorflow) (1.6.3)\n",
      "Requirement already satisfied: flatbuffers>=24.3.25 in c:\\users\\iaste\\appdata\\local\\programs\\python\\python313\\lib\\site-packages (from tensorflow) (25.9.23)\n",
      "Requirement already satisfied: gast!=0.5.0,!=0.5.1,!=0.5.2,>=0.2.1 in c:\\users\\iaste\\appdata\\local\\programs\\python\\python313\\lib\\site-packages (from tensorflow) (0.6.0)\n",
      "Requirement already satisfied: google_pasta>=0.1.1 in c:\\users\\iaste\\appdata\\local\\programs\\python\\python313\\lib\\site-packages (from tensorflow) (0.2.0)\n",
      "Requirement already satisfied: libclang>=13.0.0 in c:\\users\\iaste\\appdata\\local\\programs\\python\\python313\\lib\\site-packages (from tensorflow) (18.1.1)\n",
      "Requirement already satisfied: opt_einsum>=2.3.2 in c:\\users\\iaste\\appdata\\local\\programs\\python\\python313\\lib\\site-packages (from tensorflow) (3.4.0)\n",
      "Requirement already satisfied: packaging in c:\\users\\iaste\\appdata\\local\\programs\\python\\python313\\lib\\site-packages (from tensorflow) (25.0)\n",
      "Requirement already satisfied: protobuf>=5.28.0 in c:\\users\\iaste\\appdata\\local\\programs\\python\\python313\\lib\\site-packages (from tensorflow) (6.32.1)\n",
      "Requirement already satisfied: requests<3,>=2.21.0 in c:\\users\\iaste\\appdata\\local\\programs\\python\\python313\\lib\\site-packages (from tensorflow) (2.32.5)\n",
      "Requirement already satisfied: setuptools in c:\\users\\iaste\\appdata\\local\\programs\\python\\python313\\lib\\site-packages (from tensorflow) (75.1.0)\n",
      "Requirement already satisfied: six>=1.12.0 in c:\\users\\iaste\\appdata\\local\\programs\\python\\python313\\lib\\site-packages (from tensorflow) (1.17.0)\n",
      "Requirement already satisfied: termcolor>=1.1.0 in c:\\users\\iaste\\appdata\\local\\programs\\python\\python313\\lib\\site-packages (from tensorflow) (3.1.0)\n",
      "Requirement already satisfied: typing_extensions>=3.6.6 in c:\\users\\iaste\\appdata\\local\\programs\\python\\python313\\lib\\site-packages (from tensorflow) (4.15.0)\n",
      "Requirement already satisfied: wrapt>=1.11.0 in c:\\users\\iaste\\appdata\\local\\programs\\python\\python313\\lib\\site-packages (from tensorflow) (1.17.3)\n",
      "Requirement already satisfied: grpcio<2.0,>=1.24.3 in c:\\users\\iaste\\appdata\\local\\programs\\python\\python313\\lib\\site-packages (from tensorflow) (1.75.1)\n",
      "Requirement already satisfied: tensorboard~=2.20.0 in c:\\users\\iaste\\appdata\\local\\programs\\python\\python313\\lib\\site-packages (from tensorflow) (2.20.0)\n",
      "Requirement already satisfied: keras>=3.10.0 in c:\\users\\iaste\\appdata\\local\\programs\\python\\python313\\lib\\site-packages (from tensorflow) (3.11.3)\n",
      "Requirement already satisfied: numpy>=1.26.0 in c:\\users\\iaste\\appdata\\local\\programs\\python\\python313\\lib\\site-packages (from tensorflow) (2.3.3)\n",
      "Requirement already satisfied: h5py>=3.11.0 in c:\\users\\iaste\\appdata\\local\\programs\\python\\python313\\lib\\site-packages (from tensorflow) (3.15.0)\n",
      "Requirement already satisfied: ml_dtypes<1.0.0,>=0.5.1 in c:\\users\\iaste\\appdata\\local\\programs\\python\\python313\\lib\\site-packages (from tensorflow) (0.5.3)\n",
      "Requirement already satisfied: charset_normalizer<4,>=2 in c:\\users\\iaste\\appdata\\local\\programs\\python\\python313\\lib\\site-packages (from requests<3,>=2.21.0->tensorflow) (3.4.4)\n",
      "Requirement already satisfied: idna<4,>=2.5 in c:\\users\\iaste\\appdata\\local\\programs\\python\\python313\\lib\\site-packages (from requests<3,>=2.21.0->tensorflow) (3.11)\n",
      "Requirement already satisfied: urllib3<3,>=1.21.1 in c:\\users\\iaste\\appdata\\local\\programs\\python\\python313\\lib\\site-packages (from requests<3,>=2.21.0->tensorflow) (2.5.0)\n",
      "Requirement already satisfied: certifi>=2017.4.17 in c:\\users\\iaste\\appdata\\local\\programs\\python\\python313\\lib\\site-packages (from requests<3,>=2.21.0->tensorflow) (2025.10.5)\n",
      "Requirement already satisfied: markdown>=2.6.8 in c:\\users\\iaste\\appdata\\local\\programs\\python\\python313\\lib\\site-packages (from tensorboard~=2.20.0->tensorflow) (3.9)\n",
      "Requirement already satisfied: pillow in c:\\users\\iaste\\appdata\\local\\programs\\python\\python313\\lib\\site-packages (from tensorboard~=2.20.0->tensorflow) (11.3.0)\n",
      "Requirement already satisfied: tensorboard-data-server<0.8.0,>=0.7.0 in c:\\users\\iaste\\appdata\\local\\programs\\python\\python313\\lib\\site-packages (from tensorboard~=2.20.0->tensorflow) (0.7.2)\n",
      "Requirement already satisfied: werkzeug>=1.0.1 in c:\\users\\iaste\\appdata\\local\\programs\\python\\python313\\lib\\site-packages (from tensorboard~=2.20.0->tensorflow) (3.1.3)\n",
      "Requirement already satisfied: dm-tree in c:\\users\\iaste\\appdata\\local\\programs\\python\\python313\\lib\\site-packages (from tensorflow_datasets) (0.1.9)\n",
      "Requirement already satisfied: etils>=1.9.1 in c:\\users\\iaste\\appdata\\local\\programs\\python\\python313\\lib\\site-packages (from etils[edc,enp,epath,epy,etree]>=1.9.1; python_version >= \"3.11\"->tensorflow_datasets) (1.13.0)\n",
      "Requirement already satisfied: immutabledict in c:\\users\\iaste\\appdata\\local\\programs\\python\\python313\\lib\\site-packages (from tensorflow_datasets) (4.2.2)\n",
      "Requirement already satisfied: promise in c:\\users\\iaste\\appdata\\local\\programs\\python\\python313\\lib\\site-packages (from tensorflow_datasets) (2.3)\n",
      "Requirement already satisfied: psutil in c:\\users\\iaste\\appdata\\local\\programs\\python\\python313\\lib\\site-packages (from tensorflow_datasets) (7.1.0)\n",
      "Requirement already satisfied: pyarrow in c:\\users\\iaste\\appdata\\local\\programs\\python\\python313\\lib\\site-packages (from tensorflow_datasets) (21.0.0)\n",
      "Requirement already satisfied: simple_parsing in c:\\users\\iaste\\appdata\\local\\programs\\python\\python313\\lib\\site-packages (from tensorflow_datasets) (0.1.7)\n",
      "Requirement already satisfied: tensorflow-metadata in c:\\users\\iaste\\appdata\\local\\programs\\python\\python313\\lib\\site-packages (from tensorflow_datasets) (1.17.2)\n",
      "Requirement already satisfied: toml in c:\\users\\iaste\\appdata\\local\\programs\\python\\python313\\lib\\site-packages (from tensorflow_datasets) (0.10.2)\n",
      "Requirement already satisfied: tqdm in c:\\users\\iaste\\appdata\\local\\programs\\python\\python313\\lib\\site-packages (from tensorflow_datasets) (4.67.1)\n",
      "Requirement already satisfied: contourpy>=1.0.1 in c:\\users\\iaste\\appdata\\local\\programs\\python\\python313\\lib\\site-packages (from matplotlib) (1.3.3)\n",
      "Requirement already satisfied: cycler>=0.10 in c:\\users\\iaste\\appdata\\local\\programs\\python\\python313\\lib\\site-packages (from matplotlib) (0.12.1)\n",
      "Requirement already satisfied: fonttools>=4.22.0 in c:\\users\\iaste\\appdata\\local\\programs\\python\\python313\\lib\\site-packages (from matplotlib) (4.60.1)\n",
      "Requirement already satisfied: kiwisolver>=1.3.1 in c:\\users\\iaste\\appdata\\local\\programs\\python\\python313\\lib\\site-packages (from matplotlib) (1.4.9)\n",
      "Requirement already satisfied: pyparsing>=3 in c:\\users\\iaste\\appdata\\local\\programs\\python\\python313\\lib\\site-packages (from matplotlib) (3.2.5)\n",
      "Requirement already satisfied: python-dateutil>=2.7 in c:\\users\\iaste\\appdata\\local\\programs\\python\\python313\\lib\\site-packages (from matplotlib) (2.9.0.post0)\n",
      "Requirement already satisfied: scipy>=1.8.0 in c:\\users\\iaste\\appdata\\local\\programs\\python\\python313\\lib\\site-packages (from scikit-learn) (1.16.2)\n",
      "Requirement already satisfied: joblib>=1.2.0 in c:\\users\\iaste\\appdata\\local\\programs\\python\\python313\\lib\\site-packages (from scikit-learn) (1.5.2)\n",
      "Requirement already satisfied: threadpoolctl>=3.1.0 in c:\\users\\iaste\\appdata\\local\\programs\\python\\python313\\lib\\site-packages (from scikit-learn) (3.6.0)\n",
      "Requirement already satisfied: pandas>=1.2 in c:\\users\\iaste\\appdata\\local\\programs\\python\\python313\\lib\\site-packages (from seaborn) (2.3.3)\n",
      "Requirement already satisfied: wheel<1.0,>=0.23.0 in c:\\users\\iaste\\appdata\\local\\programs\\python\\python313\\lib\\site-packages (from astunparse>=1.6.0->tensorflow) (0.44.0)\n",
      "Requirement already satisfied: einops in c:\\users\\iaste\\appdata\\local\\programs\\python\\python313\\lib\\site-packages (from etils[edc,enp,epath,epy,etree]>=1.9.1; python_version >= \"3.11\"->tensorflow_datasets) (0.8.1)\n",
      "Requirement already satisfied: fsspec in c:\\users\\iaste\\appdata\\local\\programs\\python\\python313\\lib\\site-packages (from etils[edc,enp,epath,epy,etree]>=1.9.1; python_version >= \"3.11\"->tensorflow_datasets) (2025.9.0)\n",
      "Requirement already satisfied: importlib_resources in c:\\users\\iaste\\appdata\\local\\programs\\python\\python313\\lib\\site-packages (from etils[edc,enp,epath,epy,etree]>=1.9.1; python_version >= \"3.11\"->tensorflow_datasets) (6.5.2)\n",
      "Requirement already satisfied: zipp in c:\\users\\iaste\\appdata\\local\\programs\\python\\python313\\lib\\site-packages (from etils[edc,enp,epath,epy,etree]>=1.9.1; python_version >= \"3.11\"->tensorflow_datasets) (3.23.0)\n",
      "Requirement already satisfied: rich in c:\\users\\iaste\\appdata\\local\\programs\\python\\python313\\lib\\site-packages (from keras>=3.10.0->tensorflow) (14.2.0)\n",
      "Requirement already satisfied: namex in c:\\users\\iaste\\appdata\\local\\programs\\python\\python313\\lib\\site-packages (from keras>=3.10.0->tensorflow) (0.1.0)\n",
      "Requirement already satisfied: optree in c:\\users\\iaste\\appdata\\local\\programs\\python\\python313\\lib\\site-packages (from keras>=3.10.0->tensorflow) (0.17.0)\n",
      "Requirement already satisfied: pytz>=2020.1 in c:\\users\\iaste\\appdata\\local\\programs\\python\\python313\\lib\\site-packages (from pandas>=1.2->seaborn) (2025.2)\n",
      "Requirement already satisfied: tzdata>=2022.7 in c:\\users\\iaste\\appdata\\local\\programs\\python\\python313\\lib\\site-packages (from pandas>=1.2->seaborn) (2024.2)\n",
      "Requirement already satisfied: MarkupSafe>=2.1.1 in c:\\users\\iaste\\appdata\\local\\programs\\python\\python313\\lib\\site-packages (from werkzeug>=1.0.1->tensorboard~=2.20.0->tensorflow) (3.0.3)\n",
      "Requirement already satisfied: attrs>=18.2.0 in c:\\users\\iaste\\appdata\\local\\programs\\python\\python313\\lib\\site-packages (from dm-tree->tensorflow_datasets) (25.4.0)\n",
      "Requirement already satisfied: markdown-it-py>=2.2.0 in c:\\users\\iaste\\appdata\\local\\programs\\python\\python313\\lib\\site-packages (from rich->keras>=3.10.0->tensorflow) (4.0.0)\n",
      "Requirement already satisfied: pygments<3.0.0,>=2.13.0 in c:\\users\\iaste\\appdata\\local\\programs\\python\\python313\\lib\\site-packages (from rich->keras>=3.10.0->tensorflow) (2.19.2)\n",
      "Requirement already satisfied: mdurl~=0.1 in c:\\users\\iaste\\appdata\\local\\programs\\python\\python313\\lib\\site-packages (from markdown-it-py>=2.2.0->rich->keras>=3.10.0->tensorflow) (0.1.2)\n",
      "Requirement already satisfied: docstring-parser<1.0,>=0.15 in c:\\users\\iaste\\appdata\\local\\programs\\python\\python313\\lib\\site-packages (from simple_parsing->tensorflow_datasets) (0.17.0)\n",
      "Requirement already satisfied: googleapis-common-protos<2,>=1.56.4 in c:\\users\\iaste\\appdata\\local\\programs\\python\\python313\\lib\\site-packages (from tensorflow-metadata->tensorflow_datasets) (1.70.0)\n",
      "Requirement already satisfied: colorama in c:\\users\\iaste\\appdata\\local\\programs\\python\\python313\\lib\\site-packages (from tqdm->tensorflow_datasets) (0.4.6)\n",
      "All libraries installed successfully!\n"
     ]
    }
   ],
   "source": [
    "# Step 1: Install all required libraries FIRST\n",
    "!pip install tensorflow tensorflow_datasets matplotlib scikit-learn seaborn\n",
    "print(\"All libraries installed successfully!\")"
   ]
  },
  {
   "cell_type": "code",
   "execution_count": 8,
   "id": "2e55f96c-654e-4fd9-99a6-03d5f659410b",
   "metadata": {},
   "outputs": [
    {
     "name": "stderr",
     "output_type": "stream",
     "text": [
      "Matplotlib is building the font cache; this may take a moment.\n"
     ]
    },
    {
     "name": "stdout",
     "output_type": "stream",
     "text": [
      "All libraries imported successfully!\n",
      "TensorFlow version: 2.20.0\n"
     ]
    }
   ],
   "source": [
    "# Step 2: Now import all libraries\n",
    "import tensorflow as tf\n",
    "import tensorflow_datasets as tfds\n",
    "from tensorflow.keras.utils import to_categorical\n",
    "from tensorflow.keras.applications.vgg16 import VGG16, preprocess_input\n",
    "from tensorflow.keras import layers, models\n",
    "from tensorflow.keras.callbacks import EarlyStopping\n",
    "import matplotlib.pyplot as plt\n",
    "import numpy as np\n",
    "import seaborn as sns\n",
    "from sklearn.metrics import classification_report, confusion_matrix\n",
    "\n",
    "print(\"All libraries imported successfully!\")\n",
    "print(\"TensorFlow version:\", tf.__version__)"
   ]
  },
  {
   "cell_type": "code",
   "execution_count": 9,
   "id": "c7fc589d-049f-493a-b511-4fd5092e3dac",
   "metadata": {},
   "outputs": [
    {
     "name": "stdout",
     "output_type": "stream",
     "text": [
      "Loading tf_flowers dataset...\n"
     ]
    },
    {
     "name": "stderr",
     "output_type": "stream",
     "text": [
      "WARNING:absl:Variant folder C:\\Users\\iaste\\tensorflow_datasets\\tf_flowers\\3.0.1 has no dataset_info.json\n"
     ]
    },
    {
     "name": "stdout",
     "output_type": "stream",
     "text": [
      "\u001b[1mDownloading and preparing dataset Unknown size (download: Unknown size, generated: Unknown size, total: Unknown size) to C:\\Users\\iaste\\tensorflow_datasets\\tf_flowers\\3.0.1...\u001b[0m\n"
     ]
    },
    {
     "name": "stderr",
     "output_type": "stream",
     "text": [
      "C:\\Users\\iaste\\AppData\\Local\\Programs\\Python\\Python313\\Lib\\site-packages\\tqdm\\auto.py:21: TqdmWarning: IProgress not found. Please update jupyter and ipywidgets. See https://ipywidgets.readthedocs.io/en/stable/user_install.html\n",
      "  from .autonotebook import tqdm as notebook_tqdm\n",
      "Dl Completed...: 0 url [00:00, ? url/s]\n",
      "Dl Completed...:   0%|                                                                         | 0/1 [00:00<?, ? url/s]\n",
      "Dl Completed...:   0%|                                                                         | 0/1 [00:00<?, ? url/s]\n",
      "Dl Size...:   0%|                                                                            | 0/218 [00:00<?, ? MiB/s]\u001b[A\n",
      "Dl Completed...:   0%|                                                                         | 0/1 [00:02<?, ? url/s]\u001b[A\n",
      "Dl Completed...:   0%|                                                                         | 0/1 [00:02<?, ? url/s]\u001b[A\n",
      "Dl Completed...:   0%|                                                                         | 0/1 [00:02<?, ? url/s]\u001b[A\n",
      "Dl Completed...:   0%|                                                                         | 0/1 [00:02<?, ? url/s]\u001b[A\n",
      "Dl Completed...:   0%|                                                                         | 0/1 [00:03<?, ? url/s]\u001b[A\n",
      "Dl Completed...:   0%|                                                                         | 0/1 [00:03<?, ? url/s]\u001b[A\n",
      "Dl Completed...:   0%|                                                                         | 0/1 [00:03<?, ? url/s]\u001b[A\n",
      "Dl Completed...:   0%|                                                                         | 0/1 [00:03<?, ? url/s]\u001b[A\n",
      "Dl Completed...:   0%|                                                                         | 0/1 [00:03<?, ? url/s]\u001b[A\n",
      "Dl Size...:   4%|██▊                                                                 | 9/218 [00:03<08:29,  2.44s/ MiB]\u001b[A\n",
      "Dl Completed...:   0%|                                                                         | 0/1 [00:03<?, ? url/s]\u001b[A\n",
      "Dl Completed...:   0%|                                                                         | 0/1 [00:03<?, ? url/s]\u001b[A\n",
      "Dl Completed...:   0%|                                                                         | 0/1 [00:03<?, ? url/s]\u001b[A\n",
      "Dl Completed...:   0%|                                                                         | 0/1 [00:03<?, ? url/s]\u001b[A\n",
      "Dl Completed...:   0%|                                                                         | 0/1 [00:03<?, ? url/s]\u001b[A\n",
      "Dl Completed...:   0%|                                                                         | 0/1 [00:03<?, ? url/s]\u001b[A\n",
      "Dl Completed...:   0%|                                                                         | 0/1 [00:03<?, ? url/s]\u001b[A\n",
      "Dl Completed...:   0%|                                                                         | 0/1 [00:03<?, ? url/s]\u001b[A\n",
      "Dl Completed...:   0%|                                                                         | 0/1 [00:04<?, ? url/s]\u001b[A\n",
      "Dl Completed...:   0%|                                                                         | 0/1 [00:04<?, ? url/s]\u001b[A\n",
      "Dl Completed...:   0%|                                                                         | 0/1 [00:04<?, ? url/s]\u001b[A\n",
      "Dl Completed...:   0%|                                                                         | 0/1 [00:04<?, ? url/s]\u001b[A\n",
      "Dl Completed...:   0%|                                                                         | 0/1 [00:04<?, ? url/s]\u001b[A\n",
      "Dl Completed...:   0%|                                                                         | 0/1 [00:04<?, ? url/s]\u001b[A\n",
      "Dl Size...:  11%|███████                                                            | 23/218 [00:04<00:54,  3.56 MiB/s]\u001b[A\n",
      "Dl Completed...:   0%|                                                                         | 0/1 [00:04<?, ? url/s]\u001b[A\n",
      "Dl Completed...:   0%|                                                                         | 0/1 [00:04<?, ? url/s]\u001b[A\n",
      "Dl Completed...:   0%|                                                                         | 0/1 [00:04<?, ? url/s]\u001b[A\n",
      "Dl Completed...:   0%|                                                                         | 0/1 [00:04<?, ? url/s]\u001b[A\n",
      "Dl Completed...:   0%|                                                                         | 0/1 [00:04<?, ? url/s]\u001b[A\n",
      "Dl Completed...:   0%|                                                                         | 0/1 [00:04<?, ? url/s]\u001b[A\n",
      "Dl Completed...:   0%|                                                                         | 0/1 [00:04<?, ? url/s]\u001b[A\n",
      "Dl Completed...:   0%|                                                                         | 0/1 [00:04<?, ? url/s]\u001b[A\n",
      "Dl Completed...:   0%|                                                                         | 0/1 [00:05<?, ? url/s]\u001b[A\n",
      "Dl Completed...:   0%|                                                                         | 0/1 [00:05<?, ? url/s]\u001b[A\n",
      "Dl Completed...:   0%|                                                                         | 0/1 [00:05<?, ? url/s]\u001b[A\n",
      "Dl Completed...:   0%|                                                                         | 0/1 [00:05<?, ? url/s]\u001b[A\n",
      "Dl Completed...:   0%|                                                                         | 0/1 [00:05<?, ? url/s]\u001b[A\n",
      "Dl Completed...:   0%|                                                                         | 0/1 [00:05<?, ? url/s]\u001b[A\n",
      "Dl Completed...:   0%|                                                                         | 0/1 [00:05<?, ? url/s]\u001b[A\n",
      "Dl Completed...:   0%|                                                                         | 0/1 [00:05<?, ? url/s]\u001b[A\n",
      "Dl Completed...:   0%|                                                                         | 0/1 [00:05<?, ? url/s]\u001b[A\n",
      "Dl Size...:  18%|████████████▎                                                      | 40/218 [00:05<00:25,  7.10 MiB/s]\u001b[A\n",
      "Dl Completed...:   0%|                                                                         | 0/1 [00:05<?, ? url/s]\u001b[A\n",
      "Dl Completed...:   0%|                                                                         | 0/1 [00:05<?, ? url/s]\u001b[A\n",
      "Dl Completed...:   0%|                                                                         | 0/1 [00:05<?, ? url/s]\u001b[A\n",
      "Dl Completed...:   0%|                                                                         | 0/1 [00:05<?, ? url/s]\u001b[A\n",
      "Dl Completed...:   0%|                                                                         | 0/1 [00:05<?, ? url/s]\u001b[A\n",
      "Dl Completed...:   0%|                                                                         | 0/1 [00:05<?, ? url/s]\u001b[A\n",
      "Dl Completed...:   0%|                                                                         | 0/1 [00:05<?, ? url/s]\u001b[A\n",
      "Dl Completed...:   0%|                                                                         | 0/1 [00:05<?, ? url/s]\u001b[A\n",
      "Dl Completed...:   0%|                                                                         | 0/1 [00:05<?, ? url/s]\u001b[A\n",
      "Dl Completed...:   0%|                                                                         | 0/1 [00:06<?, ? url/s]\u001b[A\n",
      "Dl Completed...:   0%|                                                                         | 0/1 [00:06<?, ? url/s]\u001b[A\n",
      "Dl Completed...:   0%|                                                                         | 0/1 [00:06<?, ? url/s]\u001b[A\n",
      "Dl Completed...:   0%|                                                                         | 0/1 [00:06<?, ? url/s]\u001b[A\n",
      "Dl Completed...:   0%|                                                                         | 0/1 [00:06<?, ? url/s]\u001b[A\n",
      "Dl Completed...:   0%|                                                                         | 0/1 [00:06<?, ? url/s]\u001b[A\n",
      "Dl Completed...:   0%|                                                                         | 0/1 [00:06<?, ? url/s]\u001b[A\n",
      "Dl Completed...:   0%|                                                                         | 0/1 [00:06<?, ? url/s]\u001b[A\n",
      "Dl Size...:  26%|█████████████████▌                                                 | 57/218 [00:06<00:15, 10.30 MiB/s]\u001b[A\n",
      "Dl Completed...:   0%|                                                                         | 0/1 [00:06<?, ? url/s]\u001b[A\n",
      "Dl Completed...:   0%|                                                                         | 0/1 [00:06<?, ? url/s]\u001b[A\n",
      "Dl Completed...:   0%|                                                                         | 0/1 [00:06<?, ? url/s]\u001b[A\n",
      "Dl Completed...:   0%|                                                                         | 0/1 [00:06<?, ? url/s]\u001b[A\n",
      "Dl Completed...:   0%|                                                                         | 0/1 [00:06<?, ? url/s]\u001b[A\n",
      "Dl Completed...:   0%|                                                                         | 0/1 [00:06<?, ? url/s]\u001b[A\n",
      "Dl Completed...:   0%|                                                                         | 0/1 [00:06<?, ? url/s]\u001b[A\n",
      "Dl Completed...:   0%|                                                                         | 0/1 [00:06<?, ? url/s]\u001b[A\n",
      "Dl Completed...:   0%|                                                                         | 0/1 [00:06<?, ? url/s]\u001b[A\n",
      "Dl Completed...:   0%|                                                                         | 0/1 [00:07<?, ? url/s]\u001b[A\n",
      "Dl Completed...:   0%|                                                                         | 0/1 [00:07<?, ? url/s]\u001b[A\n",
      "Dl Completed...:   0%|                                                                         | 0/1 [00:07<?, ? url/s]\u001b[A\n",
      "Dl Completed...:   0%|                                                                         | 0/1 [00:07<?, ? url/s]\u001b[A\n",
      "Dl Completed...:   0%|                                                                         | 0/1 [00:07<?, ? url/s]\u001b[A\n",
      "Dl Completed...:   0%|                                                                         | 0/1 [00:07<?, ? url/s]\u001b[A\n",
      "Dl Completed...:   0%|                                                                         | 0/1 [00:07<?, ? url/s]\u001b[A\n",
      "Dl Size...:  33%|██████████████████████▍                                            | 73/218 [00:07<00:11, 12.32 MiB/s]\u001b[A\n",
      "Dl Completed...:   0%|                                                                         | 0/1 [00:07<?, ? url/s]\u001b[A\n",
      "Dl Completed...:   0%|                                                                         | 0/1 [00:07<?, ? url/s]\u001b[A\n",
      "Dl Completed...:   0%|                                                                         | 0/1 [00:07<?, ? url/s]\u001b[A\n",
      "Dl Completed...:   0%|                                                                         | 0/1 [00:07<?, ? url/s]\u001b[A\n",
      "Dl Completed...:   0%|                                                                         | 0/1 [00:07<?, ? url/s]\u001b[A\n",
      "Dl Completed...:   0%|                                                                         | 0/1 [00:07<?, ? url/s]\u001b[A\n",
      "Dl Completed...:   0%|                                                                         | 0/1 [00:08<?, ? url/s]\u001b[A\n",
      "Dl Completed...:   0%|                                                                         | 0/1 [00:08<?, ? url/s]\u001b[A\n",
      "Dl Completed...:   0%|                                                                         | 0/1 [00:08<?, ? url/s]\u001b[A\n",
      "Dl Completed...:   0%|                                                                         | 0/1 [00:08<?, ? url/s]\u001b[A\n",
      "Dl Completed...:   0%|                                                                         | 0/1 [00:08<?, ? url/s]\u001b[A\n",
      "Dl Completed...:   0%|                                                                         | 0/1 [00:08<?, ? url/s]\u001b[A\n",
      "Dl Completed...:   0%|                                                                         | 0/1 [00:08<?, ? url/s]\u001b[A\n",
      "Dl Completed...:   0%|                                                                         | 0/1 [00:08<?, ? url/s]\u001b[A\n",
      "Dl Completed...:   0%|                                                                         | 0/1 [00:08<?, ? url/s]\u001b[A\n",
      "Dl Size...:  40%|███████████████████████████                                        | 88/218 [00:08<00:09, 13.41 MiB/s]\u001b[A\n",
      "Dl Completed...:   0%|                                                                         | 0/1 [00:08<?, ? url/s]\u001b[A\n",
      "Dl Completed...:   0%|                                                                         | 0/1 [00:08<?, ? url/s]\u001b[A\n",
      "Dl Completed...:   0%|                                                                         | 0/1 [00:08<?, ? url/s]\u001b[A\n",
      "Dl Completed...:   0%|                                                                         | 0/1 [00:08<?, ? url/s]\u001b[A\n",
      "Dl Completed...:   0%|                                                                         | 0/1 [00:08<?, ? url/s]\u001b[A\n",
      "Dl Completed...:   0%|                                                                         | 0/1 [00:08<?, ? url/s]\u001b[A\n",
      "Dl Completed...:   0%|                                                                         | 0/1 [00:08<?, ? url/s]\u001b[A\n",
      "Dl Completed...:   0%|                                                                         | 0/1 [00:09<?, ? url/s]\u001b[A\n",
      "Dl Completed...:   0%|                                                                         | 0/1 [00:09<?, ? url/s]\u001b[A\n",
      "Dl Completed...:   0%|                                                                         | 0/1 [00:09<?, ? url/s]\u001b[A\n",
      "Dl Completed...:   0%|                                                                         | 0/1 [00:09<?, ? url/s]\u001b[A\n",
      "Dl Completed...:   0%|                                                                         | 0/1 [00:09<?, ? url/s]\u001b[A\n",
      "Dl Completed...:   0%|                                                                         | 0/1 [00:09<?, ? url/s]\u001b[A\n",
      "Dl Completed...:   0%|                                                                         | 0/1 [00:09<?, ? url/s]\u001b[A\n",
      "Dl Completed...:   0%|                                                                         | 0/1 [00:09<?, ? url/s]\u001b[A\n",
      "Dl Completed...:   0%|                                                                         | 0/1 [00:09<?, ? url/s]\u001b[A\n",
      "Dl Completed...:   0%|                                                                         | 0/1 [00:09<?, ? url/s]\u001b[A\n",
      "Dl Size...:  48%|███████████████████████████████▊                                  | 105/218 [00:09<00:08, 13.74 MiB/s]\u001b[A\n",
      "Dl Completed...:   0%|                                                                         | 0/1 [00:09<?, ? url/s]\u001b[A\n",
      "Dl Completed...:   0%|                                                                         | 0/1 [00:09<?, ? url/s]\u001b[A\n",
      "Dl Completed...:   0%|                                                                         | 0/1 [00:09<?, ? url/s]\u001b[A\n",
      "Dl Completed...:   0%|                                                                         | 0/1 [00:09<?, ? url/s]\u001b[A\n",
      "Dl Completed...:   0%|                                                                         | 0/1 [00:09<?, ? url/s]\u001b[A\n",
      "Dl Completed...:   0%|                                                                         | 0/1 [00:09<?, ? url/s]\u001b[A\n",
      "Dl Completed...:   0%|                                                                         | 0/1 [00:09<?, ? url/s]\u001b[A\n",
      "Dl Completed...:   0%|                                                                         | 0/1 [00:10<?, ? url/s]\u001b[A\n",
      "Dl Completed...:   0%|                                                                         | 0/1 [00:10<?, ? url/s]\u001b[A\n",
      "Dl Completed...:   0%|                                                                         | 0/1 [00:10<?, ? url/s]\u001b[A\n",
      "Dl Completed...:   0%|                                                                         | 0/1 [00:10<?, ? url/s]\u001b[A\n",
      "Dl Completed...:   0%|                                                                         | 0/1 [00:10<?, ? url/s]\u001b[A\n",
      "Dl Completed...:   0%|                                                                         | 0/1 [00:10<?, ? url/s]\u001b[A\n",
      "Dl Completed...:   0%|                                                                         | 0/1 [00:10<?, ? url/s]\u001b[A\n",
      "Dl Completed...:   0%|                                                                         | 0/1 [00:10<?, ? url/s]\u001b[A\n",
      "Dl Completed...:   0%|                                                                         | 0/1 [00:10<?, ? url/s]\u001b[A\n",
      "Dl Size...:  56%|████████████████████████████████████▋                             | 121/218 [00:10<00:06, 14.61 MiB/s]\u001b[A\n",
      "Dl Completed...:   0%|                                                                         | 0/1 [00:10<?, ? url/s]\u001b[A\n",
      "Dl Completed...:   0%|                                                                         | 0/1 [00:10<?, ? url/s]\u001b[A\n",
      "Dl Completed...:   0%|                                                                         | 0/1 [00:10<?, ? url/s]\u001b[A\n",
      "Dl Completed...:   0%|                                                                         | 0/1 [00:10<?, ? url/s]\u001b[A\n",
      "Dl Completed...:   0%|                                                                         | 0/1 [00:10<?, ? url/s]\u001b[A\n",
      "Dl Completed...:   0%|                                                                         | 0/1 [00:10<?, ? url/s]\u001b[A\n",
      "Dl Completed...:   0%|                                                                         | 0/1 [00:11<?, ? url/s]\u001b[A\n",
      "Dl Completed...:   0%|                                                                         | 0/1 [00:11<?, ? url/s]\u001b[A\n",
      "Dl Completed...:   0%|                                                                         | 0/1 [00:11<?, ? url/s]\u001b[A\n",
      "Dl Completed...:   0%|                                                                         | 0/1 [00:11<?, ? url/s]\u001b[A\n",
      "Dl Completed...:   0%|                                                                         | 0/1 [00:11<?, ? url/s]\u001b[A\n",
      "Dl Completed...:   0%|                                                                         | 0/1 [00:11<?, ? url/s]\u001b[A\n",
      "Dl Completed...:   0%|                                                                         | 0/1 [00:11<?, ? url/s]\u001b[A\n",
      "Dl Completed...:   0%|                                                                         | 0/1 [00:11<?, ? url/s]\u001b[A\n",
      "Dl Completed...:   0%|                                                                         | 0/1 [00:11<?, ? url/s]\u001b[A\n",
      "Dl Completed...:   0%|                                                                         | 0/1 [00:11<?, ? url/s]\u001b[A\n",
      "Dl Completed...:   0%|                                                                         | 0/1 [00:11<?, ? url/s]\u001b[A\n",
      "Dl Size...:  63%|█████████████████████████████████████████▊                        | 138/218 [00:11<00:05, 14.81 MiB/s]\u001b[A\n",
      "Dl Completed...:   0%|                                                                         | 0/1 [00:11<?, ? url/s]\u001b[A\n",
      "Dl Completed...:   0%|                                                                         | 0/1 [00:11<?, ? url/s]\u001b[A\n",
      "Dl Completed...:   0%|                                                                         | 0/1 [00:11<?, ? url/s]\u001b[A\n",
      "Dl Completed...:   0%|                                                                         | 0/1 [00:11<?, ? url/s]\u001b[A\n",
      "Dl Completed...:   0%|                                                                         | 0/1 [00:11<?, ? url/s]\u001b[A\n",
      "Dl Completed...:   0%|                                                                         | 0/1 [00:12<?, ? url/s]\u001b[A\n",
      "Dl Completed...:   0%|                                                                         | 0/1 [00:12<?, ? url/s]\u001b[A\n",
      "Dl Completed...:   0%|                                                                         | 0/1 [00:12<?, ? url/s]\u001b[A\n",
      "Dl Completed...:   0%|                                                                         | 0/1 [00:12<?, ? url/s]\u001b[A\n",
      "Dl Completed...:   0%|                                                                         | 0/1 [00:12<?, ? url/s]\u001b[A\n",
      "Dl Completed...:   0%|                                                                         | 0/1 [00:12<?, ? url/s]\u001b[A\n",
      "Dl Completed...:   0%|                                                                         | 0/1 [00:12<?, ? url/s]\u001b[A\n",
      "Dl Completed...:   0%|                                                                         | 0/1 [00:12<?, ? url/s]\u001b[A\n",
      "Dl Completed...:   0%|                                                                         | 0/1 [00:12<?, ? url/s]\u001b[A\n",
      "Dl Completed...:   0%|                                                                         | 0/1 [00:12<?, ? url/s]\u001b[A\n",
      "Dl Completed...:   0%|                                                                         | 0/1 [00:12<?, ? url/s]\u001b[A\n",
      "Dl Size...:  71%|██████████████████████████████████████████████▌                   | 154/218 [00:12<00:04, 15.28 MiB/s]\u001b[A\n",
      "Dl Completed...:   0%|                                                                         | 0/1 [00:12<?, ? url/s]\u001b[A\n",
      "Dl Completed...:   0%|                                                                         | 0/1 [00:12<?, ? url/s]\u001b[A\n",
      "Dl Completed...:   0%|                                                                         | 0/1 [00:12<?, ? url/s]\u001b[A\n",
      "Dl Completed...:   0%|                                                                         | 0/1 [00:12<?, ? url/s]\u001b[A\n",
      "Dl Completed...:   0%|                                                                         | 0/1 [00:12<?, ? url/s]\u001b[A\n",
      "Dl Completed...:   0%|                                                                         | 0/1 [00:12<?, ? url/s]\u001b[A\n",
      "Dl Completed...:   0%|                                                                         | 0/1 [00:13<?, ? url/s]\u001b[A\n",
      "Dl Completed...:   0%|                                                                         | 0/1 [00:13<?, ? url/s]\u001b[A\n",
      "Dl Completed...:   0%|                                                                         | 0/1 [00:13<?, ? url/s]\u001b[A\n",
      "Dl Completed...:   0%|                                                                         | 0/1 [00:13<?, ? url/s]\u001b[A\n",
      "Dl Completed...:   0%|                                                                         | 0/1 [00:13<?, ? url/s]\u001b[A\n",
      "Dl Completed...:   0%|                                                                         | 0/1 [00:13<?, ? url/s]\u001b[A\n",
      "Dl Completed...:   0%|                                                                         | 0/1 [00:13<?, ? url/s]\u001b[A\n",
      "Dl Completed...:   0%|                                                                         | 0/1 [00:13<?, ? url/s]\u001b[A\n",
      "Dl Completed...:   0%|                                                                         | 0/1 [00:13<?, ? url/s]\u001b[A\n",
      "Dl Completed...:   0%|                                                                         | 0/1 [00:13<?, ? url/s]\u001b[A\n",
      "Dl Size...:  78%|███████████████████████████████████████████████████▍              | 170/218 [00:13<00:03, 15.46 MiB/s]\u001b[A\n",
      "Dl Completed...:   0%|                                                                         | 0/1 [00:13<?, ? url/s]\u001b[A\n",
      "Dl Completed...:   0%|                                                                         | 0/1 [00:13<?, ? url/s]\u001b[A\n",
      "Dl Completed...:   0%|                                                                         | 0/1 [00:13<?, ? url/s]\u001b[A\n",
      "Dl Completed...:   0%|                                                                         | 0/1 [00:13<?, ? url/s]\u001b[A\n",
      "Dl Completed...:   0%|                                                                         | 0/1 [00:13<?, ? url/s]\u001b[A\n",
      "Dl Completed...:   0%|                                                                         | 0/1 [00:14<?, ? url/s]\u001b[A\n",
      "Dl Completed...:   0%|                                                                         | 0/1 [00:14<?, ? url/s]\u001b[A\n",
      "Dl Completed...:   0%|                                                                         | 0/1 [00:14<?, ? url/s]\u001b[A\n",
      "Dl Completed...:   0%|                                                                         | 0/1 [00:14<?, ? url/s]\u001b[A\n",
      "Dl Completed...:   0%|                                                                         | 0/1 [00:14<?, ? url/s]\u001b[A\n",
      "Dl Completed...:   0%|                                                                         | 0/1 [00:14<?, ? url/s]\u001b[A\n",
      "Dl Completed...:   0%|                                                                         | 0/1 [00:14<?, ? url/s]\u001b[A\n",
      "Dl Completed...:   0%|                                                                         | 0/1 [00:14<?, ? url/s]\u001b[A\n",
      "Dl Completed...:   0%|                                                                         | 0/1 [00:14<?, ? url/s]\u001b[A\n",
      "Dl Completed...:   0%|                                                                         | 0/1 [00:14<?, ? url/s]\u001b[A\n",
      "Dl Completed...:   0%|                                                                         | 0/1 [00:14<?, ? url/s]\u001b[A\n",
      "Dl Completed...:   0%|                                                                         | 0/1 [00:14<?, ? url/s]\u001b[A\n",
      "Dl Size...:  86%|████████████████████████████████████████████████████████▌         | 187/218 [00:14<00:02, 15.40 MiB/s]\u001b[A\n",
      "Dl Completed...:   0%|                                                                         | 0/1 [00:14<?, ? url/s]\u001b[A\n",
      "Dl Completed...:   0%|                                                                         | 0/1 [00:14<?, ? url/s]\u001b[A\n",
      "Dl Completed...:   0%|                                                                         | 0/1 [00:14<?, ? url/s]\u001b[A\n",
      "Dl Completed...:   0%|                                                                         | 0/1 [00:14<?, ? url/s]\u001b[A\n",
      "Dl Completed...:   0%|                                                                         | 0/1 [00:15<?, ? url/s]\u001b[A\n",
      "Dl Completed...:   0%|                                                                         | 0/1 [00:15<?, ? url/s]\u001b[A\n",
      "Dl Completed...:   0%|                                                                         | 0/1 [00:15<?, ? url/s]\u001b[A\n",
      "Dl Completed...:   0%|                                                                         | 0/1 [00:15<?, ? url/s]\u001b[A\n",
      "Dl Completed...:   0%|                                                                         | 0/1 [00:15<?, ? url/s]\u001b[A\n",
      "Dl Completed...:   0%|                                                                         | 0/1 [00:15<?, ? url/s]\u001b[A\n",
      "Dl Completed...:   0%|                                                                         | 0/1 [00:15<?, ? url/s]\u001b[A\n",
      "Dl Completed...:   0%|                                                                         | 0/1 [00:15<?, ? url/s]\u001b[A\n",
      "Dl Completed...:   0%|                                                                         | 0/1 [00:15<?, ? url/s]\u001b[A\n",
      "Dl Completed...:   0%|                                                                         | 0/1 [00:15<?, ? url/s]\u001b[A\n",
      "Dl Completed...:   0%|                                                                         | 0/1 [00:15<?, ? url/s]\u001b[A\n",
      "Dl Completed...:   0%|                                                                         | 0/1 [00:15<?, ? url/s]\u001b[A\n",
      "Dl Size...:  93%|█████████████████████████████████████████████████████████████▍    | 203/218 [00:15<00:00, 15.75 MiB/s]\u001b[A\n",
      "Dl Completed...:   0%|                                                                         | 0/1 [00:15<?, ? url/s]\u001b[A\n",
      "Dl Completed...:   0%|                                                                         | 0/1 [00:15<?, ? url/s]\u001b[A\n",
      "Dl Completed...:   0%|                                                                         | 0/1 [00:15<?, ? url/s]\u001b[A\n",
      "Dl Completed...:   0%|                                                                         | 0/1 [00:15<?, ? url/s]\u001b[A\n",
      "Dl Completed...:   0%|                                                                         | 0/1 [00:16<?, ? url/s]\u001b[A\n",
      "Dl Completed...:   0%|                                                                         | 0/1 [00:16<?, ? url/s]\u001b[A\n",
      "Dl Completed...:   0%|                                                                         | 0/1 [00:16<?, ? url/s]\u001b[A\n",
      "Dl Completed...:   0%|                                                                         | 0/1 [00:16<?, ? url/s]\u001b[A\n",
      "Dl Completed...:   0%|                                                                         | 0/1 [00:16<?, ? url/s]\u001b[A\n",
      "Dl Completed...:   0%|                                                                         | 0/1 [00:16<?, ? url/s]\u001b[A\n",
      "Dl Completed...:   0%|                                                                         | 0/1 [00:16<?, ? url/s]\u001b[A\n",
      "Dl Completed...:   0%|                                                                         | 0/1 [00:16<?, ? url/s]\u001b[A\n",
      "Dl Completed...:   0%|                                                                         | 0/1 [00:16<?, ? url/s]\u001b[A\n",
      "Dl Completed...:   0%|                                                                         | 0/1 [00:16<?, ? url/s]\u001b[A\n",
      "Dl Completed...:   0%|                                                                         | 0/1 [00:16<?, ? url/s]\u001b[A\n",
      "Dl Completed...: 100%|█████████████████████████████████████████████████████████████████| 1/1 [00:16<00:00, 16.58s/ url]\u001b[A\n",
      "Dl Size...: 100%|██████████████████████████████████████████████████████████████████| 218/218 [00:16<00:00, 13.13 MiB/s]\u001b[A\n",
      "Dl Completed...: 100%|█████████████████████████████████████████████████████████████████| 1/1 [00:16<00:00, 16.61s/ url]\n",
      "Generating splits...:   0%|                                                                 | 0/1 [00:00<?, ? splits/s]\n",
      "Generating train examples...: 0 examples [00:00, ? examples/s]\u001b[A\n",
      "Generating train examples...: 1628 examples [00:01, 1627.69 examples/s]\u001b[A\n",
      "Generating train examples...: 3640 examples [00:02, 1853.26 examples/s]\u001b[A\n",
      "                                                                       \u001b[A\n",
      "Shuffling C:\\Users\\iaste\\tensorflow_datasets\\tf_flowers\\incomplete.X8MUFI_3.0.1\\tf_flowers-train.tfrecord*...:   0%| | \u001b[A\n",
      "                                                                                                                       \u001b[A"
     ]
    },
    {
     "name": "stdout",
     "output_type": "stream",
     "text": [
      "\u001b[1mDataset tf_flowers downloaded and prepared to C:\\Users\\iaste\\tensorflow_datasets\\tf_flowers\\3.0.1. Subsequent calls will reuse this data.\u001b[0m\n",
      "WARNING:tensorflow:From C:\\Users\\iaste\\AppData\\Local\\Programs\\Python\\Python313\\Lib\\site-packages\\tensorflow_datasets\\core\\dataset_builder.py:1079: The name tf.data.get_output_shapes is deprecated. Please use tf.compat.v1.data.get_output_shapes instead.\n",
      "\n"
     ]
    },
    {
     "name": "stderr",
     "output_type": "stream",
     "text": [
      "WARNING:tensorflow:From C:\\Users\\iaste\\AppData\\Local\\Programs\\Python\\Python313\\Lib\\site-packages\\tensorflow_datasets\\core\\dataset_builder.py:1079: The name tf.data.get_output_shapes is deprecated. Please use tf.compat.v1.data.get_output_shapes instead.\n",
      "\n"
     ]
    },
    {
     "name": "stdout",
     "output_type": "stream",
     "text": [
      "✅ Dataset loaded successfully!\n",
      "Training images: 2569\n",
      "Test images: 1101\n",
      "Image shape: (442, 1024, 3)\n",
      "Sample label: 2\n",
      "Unique labels in training: [0 1 2 3 4]\n"
     ]
    }
   ],
   "source": [
    "# Step 3: Load and explore the dataset\n",
    "print(\"Loading tf_flowers dataset...\")\n",
    "\n",
    "try:\n",
    "    # Load the dataset\n",
    "    (train_ds, train_labels), (test_ds, test_labels) = tfds.load(\n",
    "        \"tf_flowers\",\n",
    "        split=[\"train[:70%]\", \"train[:30%]\"],  # 70% train, 30% test\n",
    "        batch_size=-1,  # Load all data at once\n",
    "        as_supervised=True,  # Return (image, label) tuples\n",
    "    )\n",
    "    \n",
    "    print(\" Dataset loaded successfully!\")\n",
    "    print(f\"Training images: {len(train_ds)}\")\n",
    "    print(f\"Test images: {len(test_ds)}\")\n",
    "    print(f\"Image shape: {train_ds[0].shape}\")\n",
    "    print(f\"Sample label: {train_labels[0]}\")\n",
    "    print(f\"Unique labels in training: {np.unique(train_labels)}\")\n",
    "    \n",
    "except Exception as e:\n",
    "    print(f\" Error loading dataset: {e}\")"
   ]
  },
  {
   "cell_type": "code",
   "execution_count": null,
   "id": "4c1907aa-177c-4494-8d53-790cd41dd40c",
   "metadata": {},
   "outputs": [],
   "source": [
    "# Step 4: Show sample images\n",
    "print(\"Displaying sample images from the dataset...\")\n",
    "\n",
    "# Flower class names (based on tf_flowers documentation)\n",
    "class_names = ['daisy', 'dandelion', 'roses', 'sunflowers', 'tulips']\n",
    "\n",
    "plt.figure(figsize=(15, 10))\n",
    "for i in range(6):  # Show 6 samples\n",
    "    plt.subplot(3, 4, i+1)\n",
    "    plt.imshow(train_ds[i].numpy().astype('uint8'))\n",
    "    label_idx = train_labels[i]\n",
    "    plt.title(f\"Class {label_idx}: {class_names[label_idx]}\", fontsize=10)\n",
    "    plt.axis('off')\n",
    "plt.tight_layout()\n",
    "plt.show()\n",
    "\n",
    "print(f\"Total classes: {len(class_names)}\")"
   ]
  },
  {
   "cell_type": "code",
   "execution_count": null,
   "id": "28143685-39d5-4fb7-a480-06c4ca286e4a",
   "metadata": {},
   "outputs": [],
   "source": []
  },
  {
   "cell_type": "code",
   "execution_count": 11,
   "id": "cd4561b3-b3aa-44f0-97b9-3af7947d0721",
   "metadata": {},
   "outputs": [
    {
     "name": "stdout",
     "output_type": "stream",
     "text": [
      "Preprocessing images and labels...\n",
      "Original image count - Train: 2569, Test: 1101\n",
      "Image shape after resizing: (150, 150, 3)\n",
      "Labels shape after one-hot encoding: (2569, 5)\n",
      "Sample label conversion:\n",
      "  Original: 2 -> One-hot: [0. 0. 1. 0. 0.]\n"
     ]
    }
   ],
   "source": [
    "# Step 5: Preprocess the data\n",
    "print(\"Preprocessing images and labels...\")\n",
    "\n",
    "# Resize images to 150x150 (smaller than VGG16's 224x224 for faster training)\n",
    "train_ds = tf.image.resize(train_ds, (150, 150))\n",
    "test_ds = tf.image.resize(test_ds, (150, 150))\n",
    "\n",
    "print(f\"Original image count - Train: {len(train_ds)}, Test: {len(test_ds)}\")\n",
    "print(f\"Image shape after resizing: {train_ds[0].shape}\")\n",
    "\n",
    "# Convert labels to categorical (one-hot encoding)\n",
    "# Why one-hot? Because we have 5 mutually exclusive classes\n",
    "train_labels = to_categorical(train_labels, num_classes=5)\n",
    "test_labels = to_categorical(test_labels, num_classes=5)\n",
    "\n",
    "print(f\"Labels shape after one-hot encoding: {train_labels.shape}\")\n",
    "print(f\"Sample label conversion:\")\n",
    "print(f\"  Original: {np.argmax(train_labels[0])} -> One-hot: {train_labels[0]}\")"
   ]
  },
  {
   "cell_type": "code",
   "execution_count": 12,
   "id": "a340e05a-6622-45ff-9c21-d0e4d9453c49",
   "metadata": {},
   "outputs": [
    {
     "name": "stdout",
     "output_type": "stream",
     "text": [
      "Loading pre-trained VGG16 model...\n",
      "Downloading data from https://storage.googleapis.com/tensorflow/keras-applications/vgg16/vgg16_weights_tf_dim_ordering_tf_kernels_notop.h5\n",
      "\u001b[1m58889256/58889256\u001b[0m \u001b[32m━━━━━━━━━━━━━━━━━━━━\u001b[0m\u001b[37m\u001b[0m \u001b[1m5s\u001b[0m 0us/step\n",
      "✅ Base model loaded and frozen!\n",
      "Number of layers in VGG16: 19\n",
      "Trainable parameters in base model: 0\n"
     ]
    }
   ],
   "source": [
    "# Step 6: Load pre-trained VGG16 model\n",
    "print(\"Loading pre-trained VGG16 model...\")\n",
    "\n",
    "# Load VGG16 without the top classification layers\n",
    "base_model = VGG16(\n",
    "    weights=\"imagenet\",        # Use weights pre-trained on ImageNet\n",
    "    include_top=False,         # Exclude the final 1000-class classifier\n",
    "    input_shape=(150, 150, 3)  # Our resized image dimensions\n",
    ")\n",
    "\n",
    "# FREEZE THE BASE MODEL - This is crucial for transfer learning!\n",
    "# Why freeze? We want to preserve the feature extraction capabilities\n",
    "# learned from ImageNet and only train our custom classifier\n",
    "base_model.trainable = False\n",
    "\n",
    "print(\" Base model loaded and frozen!\")\n",
    "print(f\"Number of layers in VGG16: {len(base_model.layers)}\")\n",
    "print(f\"Trainable parameters in base model: {sum([layer.trainable for layer in base_model.layers])}\")"
   ]
  },
  {
   "cell_type": "code",
   "execution_count": 13,
   "id": "5c00f890-99c4-4e8e-80f7-6b69ebd4c33c",
   "metadata": {},
   "outputs": [
    {
     "name": "stdout",
     "output_type": "stream",
     "text": [
      "Building custom classifier...\n",
      "✅ Model architecture built!\n"
     ]
    },
    {
     "data": {
      "text/html": [
       "<pre style=\"white-space:pre;overflow-x:auto;line-height:normal;font-family:Menlo,'DejaVu Sans Mono',consolas,'Courier New',monospace\"><span style=\"font-weight: bold\">Model: \"sequential\"</span>\n",
       "</pre>\n"
      ],
      "text/plain": [
       "\u001b[1mModel: \"sequential\"\u001b[0m\n"
      ]
     },
     "metadata": {},
     "output_type": "display_data"
    },
    {
     "data": {
      "text/html": [
       "<pre style=\"white-space:pre;overflow-x:auto;line-height:normal;font-family:Menlo,'DejaVu Sans Mono',consolas,'Courier New',monospace\">┏━━━━━━━━━━━━━━━━━━━━━━━━━━━━━━━━━━━━━━┳━━━━━━━━━━━━━━━━━━━━━━━━━━━━━┳━━━━━━━━━━━━━━━━━┓\n",
       "┃<span style=\"font-weight: bold\"> Layer (type)                         </span>┃<span style=\"font-weight: bold\"> Output Shape                </span>┃<span style=\"font-weight: bold\">         Param # </span>┃\n",
       "┡━━━━━━━━━━━━━━━━━━━━━━━━━━━━━━━━━━━━━━╇━━━━━━━━━━━━━━━━━━━━━━━━━━━━━╇━━━━━━━━━━━━━━━━━┩\n",
       "│ vgg16 (<span style=\"color: #0087ff; text-decoration-color: #0087ff\">Functional</span>)                   │ (<span style=\"color: #00d7ff; text-decoration-color: #00d7ff\">None</span>, <span style=\"color: #00af00; text-decoration-color: #00af00\">4</span>, <span style=\"color: #00af00; text-decoration-color: #00af00\">4</span>, <span style=\"color: #00af00; text-decoration-color: #00af00\">512</span>)           │      <span style=\"color: #00af00; text-decoration-color: #00af00\">14,714,688</span> │\n",
       "├──────────────────────────────────────┼─────────────────────────────┼─────────────────┤\n",
       "│ flatten (<span style=\"color: #0087ff; text-decoration-color: #0087ff\">Flatten</span>)                    │ (<span style=\"color: #00d7ff; text-decoration-color: #00d7ff\">None</span>, <span style=\"color: #00af00; text-decoration-color: #00af00\">8192</span>)                │               <span style=\"color: #00af00; text-decoration-color: #00af00\">0</span> │\n",
       "├──────────────────────────────────────┼─────────────────────────────┼─────────────────┤\n",
       "│ dense (<span style=\"color: #0087ff; text-decoration-color: #0087ff\">Dense</span>)                        │ (<span style=\"color: #00d7ff; text-decoration-color: #00d7ff\">None</span>, <span style=\"color: #00af00; text-decoration-color: #00af00\">512</span>)                 │       <span style=\"color: #00af00; text-decoration-color: #00af00\">4,194,816</span> │\n",
       "├──────────────────────────────────────┼─────────────────────────────┼─────────────────┤\n",
       "│ dropout (<span style=\"color: #0087ff; text-decoration-color: #0087ff\">Dropout</span>)                    │ (<span style=\"color: #00d7ff; text-decoration-color: #00d7ff\">None</span>, <span style=\"color: #00af00; text-decoration-color: #00af00\">512</span>)                 │               <span style=\"color: #00af00; text-decoration-color: #00af00\">0</span> │\n",
       "├──────────────────────────────────────┼─────────────────────────────┼─────────────────┤\n",
       "│ dense_1 (<span style=\"color: #0087ff; text-decoration-color: #0087ff\">Dense</span>)                      │ (<span style=\"color: #00d7ff; text-decoration-color: #00d7ff\">None</span>, <span style=\"color: #00af00; text-decoration-color: #00af00\">256</span>)                 │         <span style=\"color: #00af00; text-decoration-color: #00af00\">131,328</span> │\n",
       "├──────────────────────────────────────┼─────────────────────────────┼─────────────────┤\n",
       "│ dropout_1 (<span style=\"color: #0087ff; text-decoration-color: #0087ff\">Dropout</span>)                  │ (<span style=\"color: #00d7ff; text-decoration-color: #00d7ff\">None</span>, <span style=\"color: #00af00; text-decoration-color: #00af00\">256</span>)                 │               <span style=\"color: #00af00; text-decoration-color: #00af00\">0</span> │\n",
       "├──────────────────────────────────────┼─────────────────────────────┼─────────────────┤\n",
       "│ dense_2 (<span style=\"color: #0087ff; text-decoration-color: #0087ff\">Dense</span>)                      │ (<span style=\"color: #00d7ff; text-decoration-color: #00d7ff\">None</span>, <span style=\"color: #00af00; text-decoration-color: #00af00\">5</span>)                   │           <span style=\"color: #00af00; text-decoration-color: #00af00\">1,285</span> │\n",
       "└──────────────────────────────────────┴─────────────────────────────┴─────────────────┘\n",
       "</pre>\n"
      ],
      "text/plain": [
       "┏━━━━━━━━━━━━━━━━━━━━━━━━━━━━━━━━━━━━━━┳━━━━━━━━━━━━━━━━━━━━━━━━━━━━━┳━━━━━━━━━━━━━━━━━┓\n",
       "┃\u001b[1m \u001b[0m\u001b[1mLayer (type)                        \u001b[0m\u001b[1m \u001b[0m┃\u001b[1m \u001b[0m\u001b[1mOutput Shape               \u001b[0m\u001b[1m \u001b[0m┃\u001b[1m \u001b[0m\u001b[1m        Param #\u001b[0m\u001b[1m \u001b[0m┃\n",
       "┡━━━━━━━━━━━━━━━━━━━━━━━━━━━━━━━━━━━━━━╇━━━━━━━━━━━━━━━━━━━━━━━━━━━━━╇━━━━━━━━━━━━━━━━━┩\n",
       "│ vgg16 (\u001b[38;5;33mFunctional\u001b[0m)                   │ (\u001b[38;5;45mNone\u001b[0m, \u001b[38;5;34m4\u001b[0m, \u001b[38;5;34m4\u001b[0m, \u001b[38;5;34m512\u001b[0m)           │      \u001b[38;5;34m14,714,688\u001b[0m │\n",
       "├──────────────────────────────────────┼─────────────────────────────┼─────────────────┤\n",
       "│ flatten (\u001b[38;5;33mFlatten\u001b[0m)                    │ (\u001b[38;5;45mNone\u001b[0m, \u001b[38;5;34m8192\u001b[0m)                │               \u001b[38;5;34m0\u001b[0m │\n",
       "├──────────────────────────────────────┼─────────────────────────────┼─────────────────┤\n",
       "│ dense (\u001b[38;5;33mDense\u001b[0m)                        │ (\u001b[38;5;45mNone\u001b[0m, \u001b[38;5;34m512\u001b[0m)                 │       \u001b[38;5;34m4,194,816\u001b[0m │\n",
       "├──────────────────────────────────────┼─────────────────────────────┼─────────────────┤\n",
       "│ dropout (\u001b[38;5;33mDropout\u001b[0m)                    │ (\u001b[38;5;45mNone\u001b[0m, \u001b[38;5;34m512\u001b[0m)                 │               \u001b[38;5;34m0\u001b[0m │\n",
       "├──────────────────────────────────────┼─────────────────────────────┼─────────────────┤\n",
       "│ dense_1 (\u001b[38;5;33mDense\u001b[0m)                      │ (\u001b[38;5;45mNone\u001b[0m, \u001b[38;5;34m256\u001b[0m)                 │         \u001b[38;5;34m131,328\u001b[0m │\n",
       "├──────────────────────────────────────┼─────────────────────────────┼─────────────────┤\n",
       "│ dropout_1 (\u001b[38;5;33mDropout\u001b[0m)                  │ (\u001b[38;5;45mNone\u001b[0m, \u001b[38;5;34m256\u001b[0m)                 │               \u001b[38;5;34m0\u001b[0m │\n",
       "├──────────────────────────────────────┼─────────────────────────────┼─────────────────┤\n",
       "│ dense_2 (\u001b[38;5;33mDense\u001b[0m)                      │ (\u001b[38;5;45mNone\u001b[0m, \u001b[38;5;34m5\u001b[0m)                   │           \u001b[38;5;34m1,285\u001b[0m │\n",
       "└──────────────────────────────────────┴─────────────────────────────┴─────────────────┘\n"
      ]
     },
     "metadata": {},
     "output_type": "display_data"
    },
    {
     "data": {
      "text/html": [
       "<pre style=\"white-space:pre;overflow-x:auto;line-height:normal;font-family:Menlo,'DejaVu Sans Mono',consolas,'Courier New',monospace\"><span style=\"font-weight: bold\"> Total params: </span><span style=\"color: #00af00; text-decoration-color: #00af00\">19,042,117</span> (72.64 MB)\n",
       "</pre>\n"
      ],
      "text/plain": [
       "\u001b[1m Total params: \u001b[0m\u001b[38;5;34m19,042,117\u001b[0m (72.64 MB)\n"
      ]
     },
     "metadata": {},
     "output_type": "display_data"
    },
    {
     "data": {
      "text/html": [
       "<pre style=\"white-space:pre;overflow-x:auto;line-height:normal;font-family:Menlo,'DejaVu Sans Mono',consolas,'Courier New',monospace\"><span style=\"font-weight: bold\"> Trainable params: </span><span style=\"color: #00af00; text-decoration-color: #00af00\">4,327,429</span> (16.51 MB)\n",
       "</pre>\n"
      ],
      "text/plain": [
       "\u001b[1m Trainable params: \u001b[0m\u001b[38;5;34m4,327,429\u001b[0m (16.51 MB)\n"
      ]
     },
     "metadata": {},
     "output_type": "display_data"
    },
    {
     "data": {
      "text/html": [
       "<pre style=\"white-space:pre;overflow-x:auto;line-height:normal;font-family:Menlo,'DejaVu Sans Mono',consolas,'Courier New',monospace\"><span style=\"font-weight: bold\"> Non-trainable params: </span><span style=\"color: #00af00; text-decoration-color: #00af00\">14,714,688</span> (56.13 MB)\n",
       "</pre>\n"
      ],
      "text/plain": [
       "\u001b[1m Non-trainable params: \u001b[0m\u001b[38;5;34m14,714,688\u001b[0m (56.13 MB)\n"
      ]
     },
     "metadata": {},
     "output_type": "display_data"
    }
   ],
   "source": [
    "# Step 7: Build our custom classifier on top of VGG16\n",
    "print(\"Building custom classifier...\")\n",
    "\n",
    "model = models.Sequential([\n",
    "    # 1. Pre-trained VGG16 as feature extractor\n",
    "    base_model,\n",
    "    \n",
    "    # 2. Flatten 2D feature maps to 1D vector\n",
    "    # Why flatten? Dense layers need 1D input, but conv layers output 2D feature maps\n",
    "    layers.Flatten(),\n",
    "    \n",
    "    # 3. First dense layer with dropout\n",
    "    layers.Dense(512, activation='relu'),  # 512 neurons with ReLU activation\n",
    "    layers.Dropout(0.5),  # Drop 50% of neurons randomly to prevent overfitting\n",
    "    \n",
    "    # 4. Second dense layer\n",
    "    layers.Dense(256, activation='relu'),  # 256 neurons\n",
    "    layers.Dropout(0.3),  # Drop 30% of neurons\n",
    "    \n",
    "    # 5. Final output layer\n",
    "    # 5 neurons = 5 flower classes, softmax for probability distribution\n",
    "    layers.Dense(5, activation='softmax')\n",
    "])\n",
    "\n",
    "print(\" Model architecture built!\")\n",
    "model.summary()"
   ]
  },
  {
   "cell_type": "code",
   "execution_count": 14,
   "id": "6453e829-0763-4766-b75c-66ac95e3c12b",
   "metadata": {},
   "outputs": [
    {
     "name": "stdout",
     "output_type": "stream",
     "text": [
      "Compiling the model...\n",
      "✅ Model compiled successfully!\n"
     ]
    }
   ],
   "source": [
    "# Step 8: Compile the model\n",
    "print(\"Compiling the model...\")\n",
    "\n",
    "model.compile(\n",
    "    optimizer='adam',                    # Adaptive learning rate optimizer\n",
    "    loss='categorical_crossentropy',     # Appropriate for multi-class classification\n",
    "    metrics=['accuracy']                 # We care about classification accuracy\n",
    ")\n",
    "\n",
    "print(\" Model compiled successfully!\")"
   ]
  },
  {
   "cell_type": "code",
   "execution_count": 15,
   "id": "2fd9a0b1-bfe4-4003-b9a5-5354b07430cc",
   "metadata": {},
   "outputs": [
    {
     "name": "stdout",
     "output_type": "stream",
     "text": [
      "Setting up training callbacks...\n",
      "✅ Early stopping configured!\n"
     ]
    }
   ],
   "source": [
    "# Step 9: Set up early stopping\n",
    "print(\"Setting up training callbacks...\")\n",
    "\n",
    "early_stopping = EarlyStopping(\n",
    "    monitor='val_accuracy',    # Watch validation accuracy\n",
    "    patience=5,               # Stop after 5 epochs without improvement\n",
    "    restore_best_weights=True, # Restore weights from best epoch\n",
    "    verbose=1\n",
    ")\n",
    "\n",
    "print(\" Early stopping configured!\")"
   ]
  },
  {
   "cell_type": "code",
   "execution_count": 16,
   "id": "c3ed450b-4280-4fa2-9e3b-b731002ee8b3",
   "metadata": {},
   "outputs": [
    {
     "name": "stdout",
     "output_type": "stream",
     "text": [
      "Preprocessing images for VGG16...\n",
      "✅ Images preprocessed for VGG16!\n"
     ]
    }
   ],
   "source": [
    "# Step 10: Preprocess images for VGG16\n",
    "print(\"Preprocessing images for VGG16...\")\n",
    "\n",
    "# VGG16 expects specific preprocessing (BGR channel ordering, etc.)\n",
    "train_ds_processed = preprocess_input(train_ds)\n",
    "test_ds_processed = preprocess_input(test_ds)\n",
    "\n",
    "print(\" Images preprocessed for VGG16!\")"
   ]
  },
  {
   "cell_type": "code",
   "execution_count": null,
   "id": "09cc5b05-2d91-4513-95fa-85912dc6f061",
   "metadata": {},
   "outputs": [
    {
     "name": "stdout",
     "output_type": "stream",
     "text": [
      "Starting model training...\n",
      "Epoch 1/30\n",
      "\u001b[1m65/65\u001b[0m \u001b[32m━━━━━━━━━━━━━━━━━━━━\u001b[0m\u001b[37m\u001b[0m \u001b[1m184s\u001b[0m 3s/step - accuracy: 0.4764 - loss: 6.6389 - val_accuracy: 0.6868 - val_loss: 1.4548\n",
      "Epoch 2/30\n",
      "\u001b[1m65/65\u001b[0m \u001b[32m━━━━━━━━━━━━━━━━━━━━\u001b[0m\u001b[37m\u001b[0m \u001b[1m188s\u001b[0m 3s/step - accuracy: 0.6282 - loss: 2.1899 - val_accuracy: 0.6654 - val_loss: 1.2162\n",
      "Epoch 3/30\n",
      "\u001b[1m65/65\u001b[0m \u001b[32m━━━━━━━━━━━━━━━━━━━━\u001b[0m\u001b[37m\u001b[0m \u001b[1m184s\u001b[0m 3s/step - accuracy: 0.6550 - loss: 1.5361 - val_accuracy: 0.7062 - val_loss: 1.0559\n",
      "Epoch 4/30\n",
      "\u001b[1m65/65\u001b[0m \u001b[32m━━━━━━━━━━━━━━━━━━━━\u001b[0m\u001b[37m\u001b[0m \u001b[1m182s\u001b[0m 3s/step - accuracy: 0.6949 - loss: 1.1991 - val_accuracy: 0.6984 - val_loss: 1.0150\n",
      "Epoch 5/30\n",
      "\u001b[1m65/65\u001b[0m \u001b[32m━━━━━━━━━━━━━━━━━━━━\u001b[0m\u001b[37m\u001b[0m \u001b[1m206s\u001b[0m 3s/step - accuracy: 0.7144 - loss: 1.0544 - val_accuracy: 0.7160 - val_loss: 0.8857\n",
      "Epoch 6/30\n",
      "\u001b[1m65/65\u001b[0m \u001b[32m━━━━━━━━━━━━━━━━━━━━\u001b[0m\u001b[37m\u001b[0m \u001b[1m189s\u001b[0m 3s/step - accuracy: 0.7557 - loss: 0.8825 - val_accuracy: 0.7179 - val_loss: 0.9382\n",
      "Epoch 7/30\n",
      "\u001b[1m65/65\u001b[0m \u001b[32m━━━━━━━━━━━━━━━━━━━━\u001b[0m\u001b[37m\u001b[0m \u001b[1m182s\u001b[0m 3s/step - accuracy: 0.7616 - loss: 0.8483 - val_accuracy: 0.6965 - val_loss: 1.0325\n",
      "Epoch 8/30\n",
      "\u001b[1m65/65\u001b[0m \u001b[32m━━━━━━━━━━━━━━━━━━━━\u001b[0m\u001b[37m\u001b[0m \u001b[1m206s\u001b[0m 3s/step - accuracy: 0.7932 - loss: 0.6607 - val_accuracy: 0.7218 - val_loss: 0.9473\n",
      "Epoch 9/30\n",
      "\u001b[1m65/65\u001b[0m \u001b[32m━━━━━━━━━━━━━━━━━━━━\u001b[0m\u001b[37m\u001b[0m \u001b[1m220s\u001b[0m 3s/step - accuracy: 0.8097 - loss: 0.6033 - val_accuracy: 0.7315 - val_loss: 0.9163\n",
      "Epoch 10/30\n",
      "\u001b[1m65/65\u001b[0m \u001b[32m━━━━━━━━━━━━━━━━━━━━\u001b[0m\u001b[37m\u001b[0m \u001b[1m219s\u001b[0m 3s/step - accuracy: 0.8161 - loss: 0.6230 - val_accuracy: 0.7607 - val_loss: 0.8448\n",
      "Epoch 11/30\n",
      "\u001b[1m65/65\u001b[0m \u001b[32m━━━━━━━━━━━━━━━━━━━━\u001b[0m\u001b[37m\u001b[0m \u001b[1m222s\u001b[0m 3s/step - accuracy: 0.8248 - loss: 0.5595 - val_accuracy: 0.7237 - val_loss: 0.9779\n",
      "Epoch 12/30\n",
      "\u001b[1m 9/65\u001b[0m \u001b[32m━━\u001b[0m\u001b[37m━━━━━━━━━━━━━━━━━━\u001b[0m \u001b[1m2:44\u001b[0m 3s/step - accuracy: 0.8704 - loss: 0.4597"
     ]
    }
   ],
   "source": [
    "# Step 11: Train the model\n",
    "print(\"Starting model training...\")\n",
    "\n",
    "history = model.fit(\n",
    "    train_ds_processed,      # Preprocessed training images\n",
    "    train_labels,            # One-hot encoded labels\n",
    "    epochs=30,               # Maximum number of epochs\n",
    "    batch_size=32,           # 32 images per batch\n",
    "    validation_split=0.2,    # Use 20% of training data for validation\n",
    "    callbacks=[early_stopping],  # Stop early if no improvement\n",
    "    verbose=1                # Show progress bars\n",
    ")\n",
    "\n",
    "print(\" Training completed!\")"
   ]
  },
  {
   "cell_type": "code",
   "execution_count": null,
   "id": "27bae3dd-1153-4bd0-aa6f-c3b7d645f1d6",
   "metadata": {},
   "outputs": [],
   "source": [
    "# Step 12: Evaluate the model\n",
    "print(\"Evaluating model on test data...\")\n",
    "\n",
    "# Evaluate on unseen test data\n",
    "test_loss, test_accuracy = model.evaluate(test_ds_processed, test_labels, verbose=0)\n",
    "print(f\" Test Loss: {test_loss:.4f}\")\n",
    "print(f\" Test Accuracy: {test_accuracy:.4f}\")\n",
    "\n",
    "# Make predictions\n",
    "print(\"Making predictions...\")\n",
    "predictions = model.predict(test_ds_processed)\n",
    "predicted_classes = np.argmax(predictions, axis=1)\n",
    "true_classes = np.argmax(test_labels, axis=1)\n",
    "\n",
    "# Show sample predictions\n",
    "print(\"\\n Sample predictions:\")\n",
    "class_names = ['daisy', 'dandelion', 'roses', 'sunflowers', 'tulips']\n",
    "correct_count = 0\n",
    "for i in range(15):\n",
    "    pred_idx = predicted_classes[i]\n",
    "    true_idx = true_classes[i]\n",
    "    is_correct = pred_idx == true_idx\n",
    "    if is_correct:\n",
    "        correct_count += 1\n",
    "    \n",
    "    status = \"true\" if is_correct else \"false\"\n",
    "    print(f\"{status} Predicted: {class_names[pred_idx]:12} | Actual: {class_names[true_idx]:12}\")\n",
    "\n",
    "print(f\"\\nSample accuracy: {correct_count}/15 = {correct_count/15:.2%}\")"
   ]
  },
  {
   "cell_type": "code",
   "execution_count": null,
   "id": "24d943ab-8cb4-4fd3-bcb9-887fc9144e86",
   "metadata": {},
   "outputs": [],
   "source": [
    "# Step 13: Plot training history\n",
    "print(\"Plotting training history...\")\n",
    "\n",
    "plt.figure(figsize=(15, 5))\n",
    "\n",
    "# Plot accuracy\n",
    "plt.subplot(1, 2, 1)\n",
    "plt.plot(history.history['accuracy'], label='Training Accuracy', linewidth=2, marker='o')\n",
    "plt.plot(history.history['val_accuracy'], label='Validation Accuracy', linewidth=2, marker='s')\n",
    "plt.title('Model Accuracy Over Time', fontsize=14, fontweight='bold')\n",
    "plt.ylabel('Accuracy', fontsize=12)\n",
    "plt.xlabel('Epoch', fontsize=12)\n",
    "plt.legend(fontsize=10)\n",
    "plt.grid(True, alpha=0.3)\n",
    "plt.ylim(0, 1)\n",
    "\n",
    "# Plot loss\n",
    "plt.subplot(1, 2, 2)\n",
    "plt.plot(history.history['loss'], label='Training Loss', linewidth=2, marker='o')\n",
    "plt.plot(history.history['val_loss'], label='Validation Loss', linewidth=2, marker='s')\n",
    "plt.title('Model Loss Over Time', fontsize=14, fontweight='bold')\n",
    "plt.ylabel('Loss', fontsize=12)\n",
    "plt.xlabel('Epoch', fontsize=12)\n",
    "plt.legend(fontsize=10)\n",
    "plt.grid(True, alpha=0.3)\n",
    "\n",
    "plt.tight_layout()\n",
    "plt.show()\n",
    "\n",
    "# Print final metrics\n",
    "final_epoch = len(history.history['accuracy'])\n",
    "print(f\" Training stopped after {final_epoch} epochs\")\n",
    "print(f\" Final Training Accuracy: {history.history['accuracy'][-1]:.4f}\")\n",
    "print(f\" Final Validation Accuracy: {history.history['val_accuracy'][-1]:.4f}\")"
   ]
  },
  {
   "cell_type": "code",
   "execution_count": null,
   "id": "48119b7d-be6a-4791-9961-4fa7ffeaa7ba",
   "metadata": {},
   "outputs": [],
   "source": [
    "# Step 14: Detailed performance analysis\n",
    "print(\"Generating detailed performance report...\")\n",
    "\n",
    "# Classification report\n",
    "print(\"\\n\" + \"=\"*60)\n",
    "print(\"CLASSIFICATION REPORT\")\n",
    "print(\"=\"*60)\n",
    "print(classification_report(true_classes, predicted_classes, \n",
    "                          target_names=class_names, digits=4))\n",
    "\n",
    "# Confusion matrix\n",
    "plt.figure(figsize=(8, 6))\n",
    "cm = confusion_matrix(true_classes, predicted_classes)\n",
    "sns.heatmap(cm, annot=True, fmt='d', cmap='Blues', \n",
    "            xticklabels=class_names, yticklabels=class_names,\n",
    "            cbar_kws={'label': 'Number of Images'})\n",
    "plt.title('Confusion Matrix - Flower Classification', fontsize=14, fontweight='bold')\n",
    "plt.xlabel('Predicted Label', fontsize=12)\n",
    "plt.ylabel('True Label', fontsize=12)\n",
    "plt.xticks(rotation=45)\n",
    "plt.yticks(rotation=0)\n",
    "plt.tight_layout()\n",
    "plt.show()\n",
    "\n",
    "# Calculate overall accuracy\n",
    "overall_accuracy = np.mean(predicted_classes == true_classes)\n",
    "print(f\"\\n OVERALL TEST ACCURACY: {overall_accuracy:.4f} ({overall_accuracy:.2%})\")"
   ]
  },
  {
   "cell_type": "code",
   "execution_count": null,
   "id": "469c261e-be3a-44ab-bae8-e561c20b7b40",
   "metadata": {},
   "outputs": [],
   "source": []
  }
 ],
 "metadata": {
  "kernelspec": {
   "display_name": "Python 3 (ipykernel)",
   "language": "python",
   "name": "python3"
  },
  "language_info": {
   "codemirror_mode": {
    "name": "ipython",
    "version": 3
   },
   "file_extension": ".py",
   "mimetype": "text/x-python",
   "name": "python",
   "nbconvert_exporter": "python",
   "pygments_lexer": "ipython3",
   "version": "3.13.5"
  }
 },
 "nbformat": 4,
 "nbformat_minor": 5
}
