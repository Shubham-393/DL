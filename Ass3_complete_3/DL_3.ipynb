{
 "cells": [
  {
   "cell_type": "code",
   "execution_count": 1,
   "id": "2396928b-2aca-4f14-897f-80587c63e005",
   "metadata": {},
   "outputs": [],
   "source": [
    "# Step 1: Import libraries\n",
    "import numpy as np\n",
    "import random\n",
    "import matplotlib.pyplot as plt\n",
    "from tensorflow.keras.models import Sequential\n",
    "from tensorflow.keras.layers import Conv2D, MaxPooling2D, Dense, Flatten"
   ]
  },
  {
   "cell_type": "code",
   "execution_count": 15,
   "id": "886d6829-2a90-422b-ba5f-268bfbfc9395",
   "metadata": {},
   "outputs": [],
   "source": [
    "# Step 2: Load Dataset\n",
    "X_train = np.loadtxt('../../ass3/Training_data/input.csv', delimiter=',')\n",
    "Y_train = np.loadtxt('../../ass3/Training_data/labels.csv', delimiter=',')\n",
    "\n",
    "X_test = np.loadtxt('../../ass3/Testing_data/input_test.csv', delimiter=',')\n",
    "Y_test = np.loadtxt('../../ass3/Testing_data/labels_test.csv', delimiter=',')\n",
    "\n",
    "# import tensorflow_datasets as tfds\n",
    "\n",
    "# # Load the dataset\n",
    "# dataset, info = tfds.load('cats_vs_dogs', split=['train[:80%]', 'train[80%:]'], \n",
    "#                          as_supervised=True, with_info=True)\n",
    "# # Split into train and test\n",
    "# train_dataset, test_dataset = dataset\n",
    "\n",
    "# # Convert to numpy arrays (similar to your CSV structure)\n",
    "# X_train, Y_train = [], []\n",
    "# X_test, Y_test = [], []\n",
    "\n",
    "# for image, label in tfds.as_numpy(train_dataset):\n",
    "#     X_train.append(image)\n",
    "#     Y_train.append(label)\n",
    "\n",
    "# for image, label in tfds.as_numpy(test_dataset):\n",
    "#     X_test.append(image)\n",
    "#     Y_test.append(label)\n",
    "\n",
    "# # Convert to numpy arrays\n",
    "# X_train = np.array(X_train)\n",
    "# Y_train = np.array(Y_train)\n",
    "# X_test = np.array(X_test)\n",
    "# Y_test = np.array(Y_test)\n",
    "\n",
    "# print(\"Training data shape:\", X_train.shape)\n",
    "# print(\"Testing data shape:\", X_test.shape)\n",
    "# print(\"Training labels shape:\", Y_train.shape)"
   ]
  },
  {
   "cell_type": "code",
   "execution_count": 16,
   "id": "1bf9a030-29a3-46df-8689-252bf411504d",
   "metadata": {},
   "outputs": [
    {
     "data": {
      "text/plain": [
       "(2000, 30000)"
      ]
     },
     "execution_count": 16,
     "metadata": {},
     "output_type": "execute_result"
    }
   ],
   "source": [
    "X_train.shape"
   ]
  },
  {
   "cell_type": "code",
   "execution_count": 17,
   "id": "acf3db34-1182-4941-bb16-b59b63ace2b3",
   "metadata": {},
   "outputs": [
    {
     "data": {
      "text/plain": [
       "(400, 30000)"
      ]
     },
     "execution_count": 17,
     "metadata": {},
     "output_type": "execute_result"
    }
   ],
   "source": [
    "X_test.shape"
   ]
  },
  {
   "cell_type": "code",
   "execution_count": 19,
   "id": "8c0caaa5-adfa-4e65-945d-2bbd7140ef24",
   "metadata": {},
   "outputs": [
    {
     "data": {
      "text/plain": [
       "(2000,)"
      ]
     },
     "execution_count": 19,
     "metadata": {},
     "output_type": "execute_result"
    }
   ],
   "source": [
    "Y_train.shape"
   ]
  },
  {
   "cell_type": "code",
   "execution_count": 25,
   "id": "3ecb45e5-e47c-4669-8b67-c6507561615a",
   "metadata": {},
   "outputs": [],
   "source": [
    "# Step 3: Reshape into images (100x100 RGB)\n",
    "X_train = X_train.reshape(len(X_train), 100, 100, 3)\n",
    "X_test = X_test.reshape(len(X_test), 100, 100, 3)"
   ]
  },
  {
   "cell_type": "code",
   "execution_count": 26,
   "id": "41b16d0a-2148-47e0-b8e4-4487272a7382",
   "metadata": {},
   "outputs": [],
   "source": [
    "# Labels reshape\n",
    "Y_train = Y_train.reshape(len(Y_train), 1)\n",
    "Y_test = Y_test.reshape(len(Y_test), 1)"
   ]
  },
  {
   "cell_type": "code",
   "execution_count": 27,
   "id": "8cd8d48b-768f-4925-b9f2-74ddd04b2198",
   "metadata": {},
   "outputs": [],
   "source": [
    "# Step 4: Normalize image pixels (0–1 range)\n",
    "X_train = X_train / 255.0\n",
    "X_test = X_test / 255.0"
   ]
  },
  {
   "cell_type": "code",
   "execution_count": 28,
   "id": "bd969702-c718-4cd5-9df2-656676747f9c",
   "metadata": {},
   "outputs": [
    {
     "name": "stdout",
     "output_type": "stream",
     "text": [
      "Shape of X_train: (2000, 100, 100, 3)\n",
      "Shape of Y_train: (2000, 1)\n",
      "Shape of X_test: (400, 100, 100, 3)\n",
      "Shape of Y_test: (400, 1)\n"
     ]
    }
   ],
   "source": [
    "# Step 5: Check shapes\n",
    "print(\"Shape of X_train:\", X_train.shape)\n",
    "print(\"Shape of Y_train:\", Y_train.shape)\n",
    "print(\"Shape of X_test:\", X_test.shape)\n",
    "print(\"Shape of Y_test:\", Y_test.shape)"
   ]
  },
  {
   "cell_type": "code",
   "execution_count": 29,
   "id": "5d594aa6-9c63-437b-ba11-5d48a8785c3c",
   "metadata": {},
   "outputs": [],
   "source": [
    "# # Show one random image\n",
    "# idx = random.randint(0, len(X_train)-1)\n",
    "# plt.imshow(X_train[idx])\n",
    "# plt.title(\"Example Training Image\")\n",
    "# plt.show()"
   ]
  },
  {
   "cell_type": "code",
   "execution_count": 30,
   "id": "15c3620c-bf97-4e6b-afc9-f404586e43f6",
   "metadata": {},
   "outputs": [],
   "source": [
    "# Step 6: Build CNN Model\n",
    "model = Sequential()"
   ]
  },
  {
   "cell_type": "code",
   "execution_count": 31,
   "id": "0471289b-d63a-41a9-a9a5-526a7f5659fb",
   "metadata": {},
   "outputs": [],
   "source": [
    "model.add(Conv2D(32, (3,3), activation='relu', input_shape=(100,100,3)))\n",
    "model.add(MaxPooling2D((2,2)))\n",
    "\n",
    "model.add(Conv2D(32, (3,3), activation='relu'))\n",
    "model.add(MaxPooling2D((2,2)))\n",
    "\n",
    "model.add(Flatten())\n",
    "model.add(Dense(64, activation='relu'))\n",
    "model.add(Dense(1, activation='sigmoid'))   # binary output"
   ]
  },
  {
   "cell_type": "code",
   "execution_count": 32,
   "id": "78f21c5f-6b1e-4bf1-b0db-6f4b68da1c9b",
   "metadata": {},
   "outputs": [],
   "source": [
    "# Step 7: Compile the model\n",
    "model.compile(loss='binary_crossentropy',\n",
    "              optimizer='adam',\n",
    "              metrics=['accuracy'])"
   ]
  },
  {
   "cell_type": "code",
   "execution_count": 33,
   "id": "dedd8a75-aa8c-48df-a615-2178db5ae3c2",
   "metadata": {},
   "outputs": [
    {
     "name": "stdout",
     "output_type": "stream",
     "text": [
      "Epoch 1/10\n",
      "\u001b[1m32/32\u001b[0m \u001b[32m━━━━━━━━━━━━━━━━━━━━\u001b[0m\u001b[37m\u001b[0m \u001b[1m4s\u001b[0m 93ms/step - accuracy: 0.5189 - loss: 0.8424 - val_accuracy: 0.5075 - val_loss: 0.6930\n",
      "Epoch 2/10\n",
      "\u001b[1m32/32\u001b[0m \u001b[32m━━━━━━━━━━━━━━━━━━━━\u001b[0m\u001b[37m\u001b[0m \u001b[1m3s\u001b[0m 89ms/step - accuracy: 0.5452 - loss: 0.6918 - val_accuracy: 0.5300 - val_loss: 0.6900\n",
      "Epoch 3/10\n",
      "\u001b[1m32/32\u001b[0m \u001b[32m━━━━━━━━━━━━━━━━━━━━\u001b[0m\u001b[37m\u001b[0m \u001b[1m3s\u001b[0m 87ms/step - accuracy: 0.5468 - loss: 0.6873 - val_accuracy: 0.5950 - val_loss: 0.6794\n",
      "Epoch 4/10\n",
      "\u001b[1m32/32\u001b[0m \u001b[32m━━━━━━━━━━━━━━━━━━━━\u001b[0m\u001b[37m\u001b[0m \u001b[1m3s\u001b[0m 92ms/step - accuracy: 0.5898 - loss: 0.6712 - val_accuracy: 0.6275 - val_loss: 0.6572\n",
      "Epoch 5/10\n",
      "\u001b[1m32/32\u001b[0m \u001b[32m━━━━━━━━━━━━━━━━━━━━\u001b[0m\u001b[37m\u001b[0m \u001b[1m3s\u001b[0m 87ms/step - accuracy: 0.6494 - loss: 0.6388 - val_accuracy: 0.5975 - val_loss: 0.6482\n",
      "Epoch 6/10\n",
      "\u001b[1m32/32\u001b[0m \u001b[32m━━━━━━━━━━━━━━━━━━━━\u001b[0m\u001b[37m\u001b[0m \u001b[1m3s\u001b[0m 87ms/step - accuracy: 0.6490 - loss: 0.6245 - val_accuracy: 0.6400 - val_loss: 0.6232\n",
      "Epoch 7/10\n",
      "\u001b[1m32/32\u001b[0m \u001b[32m━━━━━━━━━━━━━━━━━━━━\u001b[0m\u001b[37m\u001b[0m \u001b[1m3s\u001b[0m 90ms/step - accuracy: 0.7094 - loss: 0.5796 - val_accuracy: 0.6350 - val_loss: 0.6197\n",
      "Epoch 8/10\n",
      "\u001b[1m32/32\u001b[0m \u001b[32m━━━━━━━━━━━━━━━━━━━━\u001b[0m\u001b[37m\u001b[0m \u001b[1m3s\u001b[0m 91ms/step - accuracy: 0.7220 - loss: 0.5487 - val_accuracy: 0.6725 - val_loss: 0.6012\n",
      "Epoch 9/10\n",
      "\u001b[1m32/32\u001b[0m \u001b[32m━━━━━━━━━━━━━━━━━━━━\u001b[0m\u001b[37m\u001b[0m \u001b[1m3s\u001b[0m 91ms/step - accuracy: 0.7116 - loss: 0.5680 - val_accuracy: 0.6600 - val_loss: 0.6137\n",
      "Epoch 10/10\n",
      "\u001b[1m32/32\u001b[0m \u001b[32m━━━━━━━━━━━━━━━━━━━━\u001b[0m\u001b[37m\u001b[0m \u001b[1m3s\u001b[0m 92ms/step - accuracy: 0.7506 - loss: 0.5253 - val_accuracy: 0.6175 - val_loss: 0.6495\n"
     ]
    },
    {
     "data": {
      "text/plain": [
       "<keras.src.callbacks.history.History at 0x2c7eef86c60>"
      ]
     },
     "execution_count": 33,
     "metadata": {},
     "output_type": "execute_result"
    }
   ],
   "source": [
    "# Step 8: Train the model\n",
    "model.fit(X_train, Y_train, epochs=10, batch_size=64, validation_data=(X_test, Y_test))"
   ]
  },
  {
   "cell_type": "code",
   "execution_count": 34,
   "id": "c3c82dcf-4faa-44d2-82af-685c8d35ab9d",
   "metadata": {},
   "outputs": [
    {
     "name": "stdout",
     "output_type": "stream",
     "text": [
      "\u001b[1m13/13\u001b[0m \u001b[32m━━━━━━━━━━━━━━━━━━━━\u001b[0m\u001b[37m\u001b[0m \u001b[1m0s\u001b[0m 17ms/step - accuracy: 0.7464 - loss: 0.5005\n",
      "Test Accuracy: 0.6175000071525574\n",
      "Test Loss: 0.64945387840271\n"
     ]
    }
   ],
   "source": [
    "# Step 9: Evaluate the model\n",
    "loss, acc = model.evaluate(X_test, Y_test)\n",
    "print(\"Test Accuracy:\", acc)\n",
    "print(\"Test Loss:\", loss)"
   ]
  },
  {
   "cell_type": "code",
   "execution_count": 35,
   "id": "17f9a43b-6644-4ba4-96da-22a7d7589643",
   "metadata": {},
   "outputs": [
    {
     "data": {
      "image/png": "[encoded data removed]",
      "text/plain": [
       "<Figure size 640x480 with 1 Axes>"
      ]
     },
     "metadata": {},
     "output_type": "display_data"
    },
    {
     "name": "stdout",
     "output_type": "stream",
     "text": [
      "\u001b[1m1/1\u001b[0m \u001b[32m━━━━━━━━━━━━━━━━━━━━\u001b[0m\u001b[37m\u001b[0m \u001b[1m0s\u001b[0m 85ms/step\n",
      "Our model says it is a: Cat\n"
     ]
    }
   ],
   "source": [
    "# Step 10: Making predictions\n",
    "idx2 = random.randint(0, len(Y_test)-1)\n",
    "plt.imshow(X_test[idx2])\n",
    "plt.title(\"Test Image\")\n",
    "plt.show()\n",
    "y_pred = model.predict(X_test[idx2].reshape(1,100,100,3))\n",
    "y_pred = y_pred > 0.5   # threshold at 0.5\n",
    "\n",
    "if y_pred == 0:\n",
    "    pred = \"Dog\"\n",
    "else:\n",
    "    pred = \"Cat\"\n",
    "\n",
    "print(\"Our model says it is a:\", pred)"
   ]
  },
  {
   "cell_type": "code",
   "execution_count": null,
   "id": "1f669653-b432-4fac-b966-e8acdf5c24b7",
   "metadata": {},
   "outputs": [],
   "source": []
  },
  {
   "cell_type": "code",
   "execution_count": null,
   "id": "f24e6136-e17f-4022-a3fe-571b6418585d",
   "metadata": {},
   "outputs": [],
   "source": []
  },
  {
   "cell_type": "code",
   "execution_count": null,
   "id": "ca3ff41e-d5c2-4a36-9a8c-ff8f3575fe26",
   "metadata": {},
   "outputs": [],
   "source": []
  }
 ],
 "metadata": {
  "kernelspec": {
   "display_name": "Python (myvenv)",
   "language": "python",
   "name": "tfenv"
  },
  "language_info": {
   "codemirror_mode": {
    "name": "ipython",
    "version": 3
   },
   "file_extension": ".py",
   "mimetype": "text/x-python",
   "name": "python",
   "nbconvert_exporter": "python",
   "pygments_lexer": "ipython3",
   "version": "3.12.10"
  }
 },
 "nbformat": 4,
 "nbformat_minor": 5
}
