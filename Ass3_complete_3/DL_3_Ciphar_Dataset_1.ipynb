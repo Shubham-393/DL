{
 "cells": [
  {
   "cell_type": "code",
   "execution_count": 1,
   "id": "67802aa6-5fab-454d-8e7e-a12f7e52e687",
   "metadata": {
    "executionInfo": {
     "elapsed": 8361,
     "status": "ok",
     "timestamp": 1757520247131,
     "user": {
      "displayName": "3025_SHUBHAM KHOT",
      "userId": "17417549153270012732"
     },
     "user_tz": -330
    },
    "id": "67802aa6-5fab-454d-8e7e-a12f7e52e687"
   },
   "outputs": [],
   "source": [
    "import numpy as np\n",
    "import matplotlib.pyplot as plt\n",
    "import random\n",
    "from tensorflow.keras.datasets import cifar10\n",
    "from tensorflow.keras.utils import to_categorical\n",
    "from tensorflow.keras.models import Sequential\n",
    "from tensorflow.keras.layers import Conv2D, MaxPooling2D, Flatten, Dense"
   ]
  },
  {
   "cell_type": "code",
   "execution_count": 2,
   "id": "64af44a2-b95d-4b40-b29a-a937087072bb",
   "metadata": {
    "colab": {
     "base_uri": "https://localhost:8080/"
    },
    "executionInfo": {
     "elapsed": 5709,
     "status": "ok",
     "timestamp": 1757520252862,
     "user": {
      "displayName": "3025_SHUBHAM KHOT",
      "userId": "17417549153270012732"
     },
     "user_tz": -330
    },
    "id": "64af44a2-b95d-4b40-b29a-a937087072bb",
    "outputId": "a4266d27-9679-4853-e357-14707f6969c6"
   },
   "outputs": [],
   "source": [
    "# Load CIFAR-10 dataset\n",
    "(X_train, Y_train), (X_test, Y_test) = cifar10.load_data()"
   ]
  },
  {
   "cell_type": "code",
   "execution_count": 3,
   "id": "32f59aba-4b3d-4bd2-baab-4a09aa6c2e32",
   "metadata": {
    "executionInfo": {
     "elapsed": 635,
     "status": "ok",
     "timestamp": 1757520253491,
     "user": {
      "displayName": "3025_SHUBHAM KHOT",
      "userId": "17417549153270012732"
     },
     "user_tz": -330
    },
    "id": "32f59aba-4b3d-4bd2-baab-4a09aa6c2e32"
   },
   "outputs": [],
   "source": [
    "# Normalize (0-1 range)\n",
    "X_train = X_train.astype(\"float32\") / 255.0\n",
    "X_test = X_test.astype(\"float32\") / 255.0"
   ]
  },
  {
   "cell_type": "code",
   "execution_count": 4,
   "id": "9dc24ba9-f4a6-4a36-9c21-e6aa98681a8b",
   "metadata": {
    "executionInfo": {
     "elapsed": 13,
     "status": "ok",
     "timestamp": 1757520253508,
     "user": {
      "displayName": "3025_SHUBHAM KHOT",
      "userId": "17417549153270012732"
     },
     "user_tz": -330
    },
    "id": "9dc24ba9-f4a6-4a36-9c21-e6aa98681a8b"
   },
   "outputs": [],
   "source": [
    "# One-hot encode labels\n",
    "Y_train = to_categorical(Y_train, 10)\n",
    "Y_test = to_categorical(Y_test, 10)"
   ]
  },
  {
   "cell_type": "code",
   "execution_count": 5,
   "id": "9cb66117-02eb-4cb3-b03d-55011ccddf33",
   "metadata": {
    "colab": {
     "base_uri": "https://localhost:8080/"
    },
    "executionInfo": {
     "elapsed": 153,
     "status": "ok",
     "timestamp": 1757520253667,
     "user": {
      "displayName": "3025_SHUBHAM KHOT",
      "userId": "17417549153270012732"
     },
     "user_tz": -330
    },
    "id": "9cb66117-02eb-4cb3-b03d-55011ccddf33",
    "outputId": "1878f22b-ed62-4a5c-8c88-6ebf01eebcad"
   },
   "outputs": [
    {
     "name": "stderr",
     "output_type": "stream",
     "text": [
      "C:\\Users\\shubham\\AppData\\Local\\Packages\\PythonSoftwareFoundation.Python.3.12_qbz5n2kfra8p0\\LocalCache\\local-packages\\Python312\\site-packages\\keras\\src\\layers\\convolutional\\base_conv.py:107: UserWarning: Do not pass an `input_shape`/`input_dim` argument to a layer. When using Sequential models, prefer using an `Input(shape)` object as the first layer in the model instead.\n",
      "  super().__init__(activity_regularizer=activity_regularizer, **kwargs)\n"
     ]
    }
   ],
   "source": [
    "# Define CNN model\n",
    "model = Sequential([\n",
    "    Conv2D(32, (3,3), activation='relu', input_shape=(32,32,3)),\n",
    "    MaxPooling2D((2,2)),\n",
    "    Conv2D(64, (3,3), activation='relu'),\n",
    "    MaxPooling2D((2,2)),\n",
    "    Flatten(),\n",
    "    Dense(64, activation='relu'),\n",
    "    Dense(10, activation='softmax')\n",
    "])"
   ]
  },
  {
   "cell_type": "code",
   "execution_count": 6,
   "id": "c162c8c1-f382-404f-bf40-54355d1727cc",
   "metadata": {
    "executionInfo": {
     "elapsed": 41,
     "status": "ok",
     "timestamp": 1757520253687,
     "user": {
      "displayName": "3025_SHUBHAM KHOT",
      "userId": "17417549153270012732"
     },
     "user_tz": -330
    },
    "id": "c162c8c1-f382-404f-bf40-54355d1727cc"
   },
   "outputs": [],
   "source": [
    "model.compile(optimizer='adam',\n",
    "              loss='categorical_crossentropy',\n",
    "              metrics=['accuracy'])"
   ]
  },
  {
   "cell_type": "code",
   "execution_count": 7,
   "id": "11c50933-bc97-4b65-8374-4e967c8074e7",
   "metadata": {
    "colab": {
     "base_uri": "https://localhost:8080/"
    },
    "executionInfo": {
     "elapsed": 224184,
     "status": "ok",
     "timestamp": 1757520477870,
     "user": {
      "displayName": "3025_SHUBHAM KHOT",
      "userId": "17417549153270012732"
     },
     "user_tz": -330
    },
    "id": "11c50933-bc97-4b65-8374-4e967c8074e7",
    "outputId": "10d128c7-035c-4079-e3bb-5b019fe54805"
   },
   "outputs": [
    {
     "name": "stdout",
     "output_type": "stream",
     "text": [
      "Epoch 1/3\n",
      "\u001b[1m782/782\u001b[0m \u001b[32m━━━━━━━━━━━━━━━━━━━━\u001b[0m\u001b[37m\u001b[0m \u001b[1m12s\u001b[0m 14ms/step - accuracy: 0.3535 - loss: 1.7672\n",
      "Epoch 2/3\n",
      "\u001b[1m782/782\u001b[0m \u001b[32m━━━━━━━━━━━━━━━━━━━━\u001b[0m\u001b[37m\u001b[0m \u001b[1m12s\u001b[0m 15ms/step - accuracy: 0.5670 - loss: 1.2245\n",
      "Epoch 3/3\n",
      "\u001b[1m782/782\u001b[0m \u001b[32m━━━━━━━━━━━━━━━━━━━━\u001b[0m\u001b[37m\u001b[0m \u001b[1m12s\u001b[0m 15ms/step - accuracy: 0.6224 - loss: 1.0792\n"
     ]
    },
    {
     "data": {
      "text/plain": [
       "<keras.src.callbacks.history.History at 0x26544a88c50>"
      ]
     },
     "execution_count": 7,
     "metadata": {},
     "output_type": "execute_result"
    }
   ],
   "source": [
    "# Train the model\n",
    "model.fit(X_train, Y_train, epochs=3, batch_size=64, verbose=1)"
   ]
  },
  {
   "cell_type": "code",
   "execution_count": 8,
   "id": "1c287178-ec90-4529-a51e-596b29e68f00",
   "metadata": {
    "executionInfo": {
     "elapsed": 30,
     "status": "ok",
     "timestamp": 1757520477885,
     "user": {
      "displayName": "3025_SHUBHAM KHOT",
      "userId": "17417549153270012732"
     },
     "user_tz": -330
    },
    "id": "1c287178-ec90-4529-a51e-596b29e68f00"
   },
   "outputs": [],
   "source": [
    "# Prediction on random image\n",
    "# ---------------------------\n",
    "# CIFAR-10 class names\n",
    "class_names = [\"airplane\", \"automobile\", \"bird\", \"cat\", \"deer\",\n",
    "               \"dog\", \"frog\", \"horse\", \"ship\", \"truck\"]"
   ]
  },
  {
   "cell_type": "code",
   "execution_count": 9,
   "id": "20260689-04b2-4983-b165-13671e85b13f",
   "metadata": {
    "executionInfo": {
     "elapsed": 44,
     "status": "ok",
     "timestamp": 1757520537702,
     "user": {
      "displayName": "3025_SHUBHAM KHOT",
      "userId": "17417549153270012732"
     },
     "user_tz": -330
    },
    "id": "20260689-04b2-4983-b165-13671e85b13f"
   },
   "outputs": [],
   "source": [
    "idx = random.randint(0, len(X_test)-1)  # random test index\n",
    "test_img = X_test[idx].reshape(1,32,32,3)"
   ]
  },
  {
   "cell_type": "code",
   "execution_count": 10,
   "id": "794b86ea-4f18-41e0-9781-dbace52346a4",
   "metadata": {
    "colab": {
     "base_uri": "https://localhost:8080/"
    },
    "executionInfo": {
     "elapsed": 158,
     "status": "ok",
     "timestamp": 1757520538673,
     "user": {
      "displayName": "3025_SHUBHAM KHOT",
      "userId": "17417549153270012732"
     },
     "user_tz": -330
    },
    "id": "794b86ea-4f18-41e0-9781-dbace52346a4",
    "outputId": "3e0d9d2c-c7b7-43bc-d33d-dfde58912bbf"
   },
   "outputs": [
    {
     "name": "stdout",
     "output_type": "stream",
     "text": [
      "\u001b[1m1/1\u001b[0m \u001b[32m━━━━━━━━━━━━━━━━━━━━\u001b[0m\u001b[37m\u001b[0m \u001b[1m0s\u001b[0m 100ms/step\n"
     ]
    }
   ],
   "source": [
    "pred = model.predict(test_img)\n",
    "predicted_label = np.argmax(pred)\n",
    "true_label = np.argmax(Y_test[idx])"
   ]
  },
  {
   "cell_type": "code",
   "execution_count": 11,
   "id": "437267bd-4a39-46a7-90c1-8665e719b609",
   "metadata": {
    "colab": {
     "base_uri": "https://localhost:8080/",
     "height": 452
    },
    "executionInfo": {
     "elapsed": 257,
     "status": "ok",
     "timestamp": 1757520539804,
     "user": {
      "displayName": "3025_SHUBHAM KHOT",
      "userId": "17417549153270012732"
     },
     "user_tz": -330
    },
    "id": "437267bd-4a39-46a7-90c1-8665e719b609",
    "outputId": "d401b865-6f7f-48fa-8eec-e0b2a3a9f9fe"
   },
   "outputs": [
    {
     "data": {
      "image/png": "[encoded data removed]",
      "text/plain": [
       "<Figure size 640x480 with 1 Axes>"
      ]
     },
     "metadata": {},
     "output_type": "display_data"
    }
   ],
   "source": [
    "# Show image with prediction\n",
    "plt.imshow(X_test[idx])\n",
    "plt.title(f\"True: {class_names[true_label]}  |  Predicted: {class_names[predicted_label]}\")\n",
    "plt.show()"
   ]
  },
  {
   "cell_type": "code",
   "execution_count": null,
   "id": "bd827TiwYp6C",
   "metadata": {
    "id": "bd827TiwYp6C"
   },
   "outputs": [],
   "source": []
  }
 ],
 "metadata": {
  "colab": {
   "provenance": []
  },
  "kernelspec": {
   "display_name": "Python 3 (ipykernel)",
   "language": "python",
   "name": "python3"
  },
  "language_info": {
   "codemirror_mode": {
    "name": "ipython",
    "version": 3
   },
   "file_extension": ".py",
   "mimetype": "text/x-python",
   "name": "python",
   "nbconvert_exporter": "python",
   "pygments_lexer": "ipython3",
   "version": "3.12.10"
  }
 },
 "nbformat": 4,
 "nbformat_minor": 5
}
