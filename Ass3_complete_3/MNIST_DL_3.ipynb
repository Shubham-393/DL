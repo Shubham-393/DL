{
 "cells": [
  {
   "cell_type": "code",
   "execution_count": 1,
   "id": "39f90c4c-5914-429a-8db0-c35cdb47f4b2",
   "metadata": {},
   "outputs": [],
   "source": [
    "import numpy as np\n",
    "import matplotlib.pyplot as plt\n",
    "import random\n",
    "from tensorflow.keras.datasets import mnist\n",
    "from tensorflow.keras.utils import to_categorical\n",
    "from tensorflow.keras.models import Sequential\n",
    "from tensorflow.keras.layers import Conv2D,MaxPooling2D,Flatten,Dense"
   ]
  },
  {
   "cell_type": "code",
   "execution_count": 2,
   "id": "4b09c223-2efc-4afe-97a9-21594895ce05",
   "metadata": {},
   "outputs": [],
   "source": [
    "(X_train,Y_train),(X_test,Y_test) = mnist.load_data()"
   ]
  },
  {
   "cell_type": "code",
   "execution_count": 3,
   "id": "6e26a6b4-1965-45fe-a52c-b8e160325085",
   "metadata": {},
   "outputs": [],
   "source": [
    "# Reshape to (28,28,1) because MNIST is grayscale\n",
    "X_train = X_train.reshape(-1,28,28,1)\n",
    "X_test = X_test.reshape(-1,28,28,1)"
   ]
  },
  {
   "cell_type": "code",
   "execution_count": 4,
   "id": "72653591-9d86-4310-9cfb-674abd6dff48",
   "metadata": {},
   "outputs": [],
   "source": [
    "# Normalize (0–255 → 0–1)\n",
    "X_train = X_train / 255.0\n",
    "X_test = X_test / 255.0"
   ]
  },
  {
   "cell_type": "code",
   "execution_count": 5,
   "id": "85f763f7-fbde-43d3-a10f-14c12e01c242",
   "metadata": {},
   "outputs": [],
   "source": [
    "# One-hot encode labels (0–9 digits)\n",
    "Y_train = to_categorical(Y_train, 10)\n",
    "Y_test = to_categorical(Y_test,10)"
   ]
  },
  {
   "cell_type": "code",
   "execution_count": 6,
   "id": "f91dd294-e681-4bfb-9eb7-2521b418e8db",
   "metadata": {},
   "outputs": [
    {
     "name": "stdout",
     "output_type": "stream",
     "text": [
      "Training data shape: (60000, 28, 28, 1)\n",
      "Testing data shape: (10000, 28, 28, 1)\n"
     ]
    }
   ],
   "source": [
    "print(\"Training data shape:\",X_train.shape)\n",
    "print(\"Testing data shape:\", X_test.shape)"
   ]
  },
  {
   "cell_type": "code",
   "execution_count": 7,
   "id": "70276d27-12bc-4e95-8772-a67c1585384c",
   "metadata": {},
   "outputs": [
    {
     "name": "stderr",
     "output_type": "stream",
     "text": [
      "C:\\Users\\shubham\\AppData\\Local\\Packages\\PythonSoftwareFoundation.Python.3.12_qbz5n2kfra8p0\\LocalCache\\local-packages\\Python312\\site-packages\\keras\\src\\layers\\convolutional\\base_conv.py:107: UserWarning: Do not pass an `input_shape`/`input_dim` argument to a layer. When using Sequential models, prefer using an `Input(shape)` object as the first layer in the model instead.\n",
      "  super().__init__(activity_regularizer=activity_regularizer, **kwargs)\n"
     ]
    }
   ],
   "source": [
    "# 2. Define CNN Model\n",
    "model = Sequential([\n",
    "    Conv2D(32, (3,3), activation = 'relu', input_shape=(28,28,1)),\n",
    "    MaxPooling2D((2,2)),\n",
    "    Conv2D(64, (3,3), activation = 'relu'),\n",
    "    MaxPooling2D((2,2)),\n",
    "    Flatten(),\n",
    "    Dense(64, activation = 'relu'),\n",
    "    Dense(10, activation = 'softmax') # 10 classes (digits 0–9)\n",
    "])"
   ]
  },
  {
   "cell_type": "code",
   "execution_count": 8,
   "id": "90c29f95-c055-4341-8bff-1496d1e15508",
   "metadata": {},
   "outputs": [],
   "source": [
    "# 3. Compile Model\n",
    "model.compile(optimizer = 'adam',\n",
    "              loss = 'categorical_crossentropy',\n",
    "              metrics = ['accuracy'])"
   ]
  },
  {
   "cell_type": "code",
   "execution_count": 9,
   "id": "9dd14ecc-9d21-4a1e-84aa-a0c68a43fd95",
   "metadata": {},
   "outputs": [
    {
     "name": "stdout",
     "output_type": "stream",
     "text": [
      "Epoch 1/5\n",
      "\u001b[1m938/938\u001b[0m \u001b[32m━━━━━━━━━━━━━━━━━━━━\u001b[0m\u001b[37m\u001b[0m \u001b[1m10s\u001b[0m 10ms/step - accuracy: 0.8591 - loss: 0.4419 - val_accuracy: 0.9784 - val_loss: 0.0672\n",
      "Epoch 2/5\n",
      "\u001b[1m938/938\u001b[0m \u001b[32m━━━━━━━━━━━━━━━━━━━━\u001b[0m\u001b[37m\u001b[0m \u001b[1m9s\u001b[0m 10ms/step - accuracy: 0.9802 - loss: 0.0654 - val_accuracy: 0.9860 - val_loss: 0.0442\n",
      "Epoch 3/5\n",
      "\u001b[1m938/938\u001b[0m \u001b[32m━━━━━━━━━━━━━━━━━━━━\u001b[0m\u001b[37m\u001b[0m \u001b[1m10s\u001b[0m 10ms/step - accuracy: 0.9876 - loss: 0.0422 - val_accuracy: 0.9883 - val_loss: 0.0365\n",
      "Epoch 4/5\n",
      "\u001b[1m938/938\u001b[0m \u001b[32m━━━━━━━━━━━━━━━━━━━━\u001b[0m\u001b[37m\u001b[0m \u001b[1m10s\u001b[0m 10ms/step - accuracy: 0.9902 - loss: 0.0304 - val_accuracy: 0.9887 - val_loss: 0.0359\n",
      "Epoch 5/5\n",
      "\u001b[1m938/938\u001b[0m \u001b[32m━━━━━━━━━━━━━━━━━━━━\u001b[0m\u001b[37m\u001b[0m \u001b[1m10s\u001b[0m 11ms/step - accuracy: 0.9926 - loss: 0.0247 - val_accuracy: 0.9891 - val_loss: 0.0349\n"
     ]
    }
   ],
   "source": [
    "# 4. Train Model\n",
    "hsitory = model.fit(X_train,Y_train,\n",
    "                    epochs = 5,\n",
    "                    batch_size = 64,\n",
    "                    validation_data = (X_test,Y_test))"
   ]
  },
  {
   "cell_type": "code",
   "execution_count": 10,
   "id": "2ab511a8-bf13-4a39-91f8-5bf2d023cfe2",
   "metadata": {},
   "outputs": [
    {
     "name": "stdout",
     "output_type": "stream",
     "text": [
      "\u001b[1m313/313\u001b[0m \u001b[32m━━━━━━━━━━━━━━━━━━━━\u001b[0m\u001b[37m\u001b[0m \u001b[1m1s\u001b[0m 3ms/step - accuracy: 0.9868 - loss: 0.0423\n",
      "Test Accuracy: 0.9890999794006348\n",
      "Test Loss: 0.03491997718811035\n"
     ]
    }
   ],
   "source": [
    "# 5. Evaluate Model\n",
    "test_loss, test_acc = model.evaluate(X_test, Y_test)\n",
    "print(\"Test Accuracy:\", test_acc)\n",
    "print(\"Test Loss:\", test_loss)"
   ]
  },
  {
   "cell_type": "code",
   "execution_count": 11,
   "id": "6580186b-1774-4433-91d7-21f1b37a0086",
   "metadata": {},
   "outputs": [],
   "source": [
    "idx = random.randint(0, len(X_test)-1)  # random test index\n",
    "test_img = X_test[idx].reshape(1,28,28,1)"
   ]
  },
  {
   "cell_type": "code",
   "execution_count": 12,
   "id": "6fed8e70-1dd5-4798-ab52-9aaba148a5d5",
   "metadata": {},
   "outputs": [
    {
     "name": "stdout",
     "output_type": "stream",
     "text": [
      "\u001b[1m1/1\u001b[0m \u001b[32m━━━━━━━━━━━━━━━━━━━━\u001b[0m\u001b[37m\u001b[0m \u001b[1m0s\u001b[0m 65ms/step\n"
     ]
    }
   ],
   "source": [
    "pred = model.predict(test_img)\n",
    "predicted_label = np.argmax(pred)\n",
    "true_label = np.argmax(Y_test[idx])"
   ]
  },
  {
   "cell_type": "code",
   "execution_count": 13,
   "id": "54efe959-cf88-4fb9-a744-c26871b52c72",
   "metadata": {},
   "outputs": [
    {
     "data": {
      "image/png": "[encoded data removed]",
      "text/plain": [
       "<Figure size 640x480 with 1 Axes>"
      ]
     },
     "metadata": {},
     "output_type": "display_data"
    }
   ],
   "source": [
    "# Show image with prediction\n",
    "plt.imshow(X_test[idx].reshape(28,28), cmap=\"gray\")\n",
    "plt.title(f\"True: {true_label}  |  Predicted: {predicted_label}\")\n",
    "plt.show()"
   ]
  },
  {
   "cell_type": "code",
   "execution_count": null,
   "id": "89349797-f586-44cf-88e3-4227c7822942",
   "metadata": {},
   "outputs": [],
   "source": []
  }
 ],
 "metadata": {
  "kernelspec": {
   "display_name": "Python (myvenv)",
   "language": "python",
   "name": "tfenv"
  },
  "language_info": {
   "codemirror_mode": {
    "name": "ipython",
    "version": 3
   },
   "file_extension": ".py",
   "mimetype": "text/x-python",
   "name": "python",
   "nbconvert_exporter": "python",
   "pygments_lexer": "ipython3",
   "version": "3.12.10"
  }
 },
 "nbformat": 4,
 "nbformat_minor": 5
}
