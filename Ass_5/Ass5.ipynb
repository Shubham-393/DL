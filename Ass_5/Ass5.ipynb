{
 "cells": [
  {
   "cell_type": "code",
   "execution_count": 31,
   "id": "b2a899d6-2c82-4253-85fb-73d442e7a4f1",
   "metadata": {},
   "outputs": [],
   "source": [
    "import matplotlib.pyplot as plt\n",
    "import seaborn as sns\n",
    "import matplotlib.pylab as pylab\n",
    "import numpy as np"
   ]
  },
  {
   "cell_type": "code",
   "execution_count": 32,
   "id": "e5012e1d-0c8d-473c-ba6b-d234ea621231",
   "metadata": {},
   "outputs": [],
   "source": [
    "import re"
   ]
  },
  {
   "cell_type": "code",
   "execution_count": 33,
   "id": "f0cf60df-bb7f-4752-b650-47f41c167a10",
   "metadata": {},
   "outputs": [],
   "source": [
    "sentences = \"\"\"The forest is home to thousands of plants and animals.\n",
    "Rivers flow through the valleys providing water to the land.\n",
    "Birds migrate across continents in search of food and better climate.\n",
    "Mountains stand tall and protect the region from strong winds.\n",
    "Nature balances life and every creature has an important role to play.\"\"\""
   ]
  },
  {
   "cell_type": "code",
   "execution_count": 34,
   "id": "8bdc9d1f-09b7-4558-a5c4-606153c2f221",
   "metadata": {},
   "outputs": [],
   "source": [
    "sentences = re.sub('[^A-Za-z0-9]+', ' ', sentences)\n",
    "sentences = re.sub(r'(?:^| )\\w(?:$| )', ' ', sentences).strip()\n",
    "sentences = sentences.lower()"
   ]
  },
  {
   "cell_type": "code",
   "execution_count": 35,
   "id": "865bda18-aeef-4261-82a6-79541edcd4a7",
   "metadata": {},
   "outputs": [],
   "source": [
    "words = sentences.split()\n",
    "vocab = set(words)"
   ]
  },
  {
   "cell_type": "code",
   "execution_count": 36,
   "id": "1fbca74a-6111-4499-a9c3-13fc0c7b1eb1",
   "metadata": {},
   "outputs": [],
   "source": [
    "vocab_len = len(vocab)\n",
    "embed_dim = 10\n",
    "context_size = 2"
   ]
  },
  {
   "cell_type": "code",
   "execution_count": 37,
   "id": "4b4401cd-6268-4c84-b8b7-99403a593cd6",
   "metadata": {},
   "outputs": [],
   "source": [
    "word_to_ix = {}\n",
    "ix_to_word = {}\n",
    "\n",
    "i = 0\n",
    "for word in vocab:\n",
    "    word_to_ix[word] = i\n",
    "    ix_to_word[i] = word\n",
    "    i += 1"
   ]
  },
  {
   "cell_type": "code",
   "execution_count": 38,
   "id": "c0d0d9d9-7265-460a-97dc-bdca34fccf47",
   "metadata": {},
   "outputs": [
    {
     "name": "stdout",
     "output_type": "stream",
     "text": [
      "[(['the', 'forest', 'home', 'to'], 'is'), (['forest', 'is', 'to', 'thousands'], 'home'), (['is', 'home', 'thousands', 'of'], 'to'), (['home', 'to', 'of', 'plants'], 'thousands'), (['to', 'thousands', 'plants', 'and'], 'of'), (['thousands', 'of', 'and', 'animals'], 'plants'), (['of', 'plants', 'animals', 'rivers'], 'and'), (['plants', 'and', 'rivers', 'flow'], 'animals'), (['and', 'animals', 'flow', 'through'], 'rivers'), (['animals', 'rivers', 'through', 'the'], 'flow'), (['rivers', 'flow', 'the', 'valleys'], 'through'), (['flow', 'through', 'valleys', 'providing'], 'the'), (['through', 'the', 'providing', 'water'], 'valleys'), (['the', 'valleys', 'water', 'to'], 'providing'), (['valleys', 'providing', 'to', 'the'], 'water'), (['providing', 'water', 'the', 'land'], 'to'), (['water', 'to', 'land', 'birds'], 'the'), (['to', 'the', 'birds', 'migrate'], 'land'), (['the', 'land', 'migrate', 'across'], 'birds'), (['land', 'birds', 'across', 'continents'], 'migrate'), (['birds', 'migrate', 'continents', 'in'], 'across'), (['migrate', 'across', 'in', 'search'], 'continents'), (['across', 'continents', 'search', 'of'], 'in'), (['continents', 'in', 'of', 'food'], 'search'), (['in', 'search', 'food', 'and'], 'of'), (['search', 'of', 'and', 'better'], 'food'), (['of', 'food', 'better', 'climate'], 'and'), (['food', 'and', 'climate', 'mountains'], 'better'), (['and', 'better', 'mountains', 'stand'], 'climate'), (['better', 'climate', 'stand', 'tall'], 'mountains'), (['climate', 'mountains', 'tall', 'and'], 'stand'), (['mountains', 'stand', 'and', 'protect'], 'tall'), (['stand', 'tall', 'protect', 'the'], 'and'), (['tall', 'and', 'the', 'region'], 'protect'), (['and', 'protect', 'region', 'from'], 'the'), (['protect', 'the', 'from', 'strong'], 'region'), (['the', 'region', 'strong', 'winds'], 'from'), (['region', 'from', 'winds', 'nature'], 'strong'), (['from', 'strong', 'nature', 'balances'], 'winds'), (['strong', 'winds', 'balances', 'life'], 'nature'), (['winds', 'nature', 'life', 'and'], 'balances'), (['nature', 'balances', 'and', 'every'], 'life'), (['balances', 'life', 'every', 'creature'], 'and'), (['life', 'and', 'creature', 'has'], 'every'), (['and', 'every', 'has', 'an'], 'creature'), (['every', 'creature', 'an', 'important'], 'has'), (['creature', 'has', 'important', 'role'], 'an'), (['has', 'an', 'role', 'to'], 'important'), (['an', 'important', 'to', 'play'], 'role')]\n"
     ]
    }
   ],
   "source": [
    "data = []\n",
    "for i in range(2, len(words) - 2):\n",
    "    context = [words[i-2], words[i-1], words[i+1], words[i+2]]\n",
    "    target = words[i]\n",
    "    data.append((context, target))\n",
    "print(data)"
   ]
  },
  {
   "cell_type": "code",
   "execution_count": 39,
   "id": "00c73e01-3425-44c8-96ee-8a8884dc73a0",
   "metadata": {},
   "outputs": [],
   "source": [
    "embeddings = np.random.random_sample((vocab_len, embed_dim))"
   ]
  },
  {
   "cell_type": "code",
   "execution_count": 40,
   "id": "a954500f-787c-4103-a240-6bd4eed9a361",
   "metadata": {},
   "outputs": [],
   "source": [
    "#hidden → output layer\n",
    "def linear(m, theta):\n",
    "    w = theta\n",
    "    return m.dot(w)"
   ]
  },
  {
   "cell_type": "code",
   "execution_count": 41,
   "id": "616e49f5-1428-45d6-99cf-28c4e933474e",
   "metadata": {},
   "outputs": [],
   "source": [
    "def log_softmax(x):\n",
    "    e_x = np.exp(x - np.max(x)) # softmax to prevent overflow\n",
    "    return np.log(e_x / e_x.sum()) # "
   ]
  },
  {
   "cell_type": "code",
   "execution_count": 42,
   "id": "584ac7df-3ab8-49a7-95bb-e3f937cabe94",
   "metadata": {},
   "outputs": [],
   "source": [
    "def NLLLoss(logs, targets):\n",
    "    out = logs[range(len(targets)), targets]\n",
    "    return -out.sum()/len(out)"
   ]
  },
  {
   "cell_type": "code",
   "execution_count": 43,
   "id": "db1ebea0-3901-41fd-8659-a00495f5b892",
   "metadata": {},
   "outputs": [],
   "source": [
    "def log_softmax_crossentropy_with_logits(logits,target):\n",
    "\n",
    "    out = np.zeros_like(logits)\n",
    "    out[np.arange(len(logits)),target] = 1\n",
    "    \n",
    "    softmax = np.exp(logits) / np.exp(logits).sum(axis=-1,keepdims=True)\n",
    "    \n",
    "    return (- out + softmax) / logits.shape[0]"
   ]
  },
  {
   "cell_type": "code",
   "execution_count": 44,
   "id": "04cd65f7-a1c9-4747-b1f0-a3d7575dee73",
   "metadata": {},
   "outputs": [],
   "source": [
    "def forward(context_idxs, theta):\n",
    "    m = embeddings[context_idxs].reshape(1, -1)\n",
    "    n = linear(m, theta)\n",
    "    o = log_softmax(n)\n",
    "    \n",
    "    return m, n, o"
   ]
  },
  {
   "cell_type": "code",
   "execution_count": 45,
   "id": "6a3c44d0-b119-489d-a815-7c3d54318c8d",
   "metadata": {},
   "outputs": [],
   "source": [
    "def backward(preds, theta, target_idxs):\n",
    "    m, n, o = preds\n",
    "    \n",
    "    dlog = log_softmax_crossentropy_with_logits(n, target_idxs)\n",
    "    dw = m.T.dot(dlog)\n",
    "    \n",
    "    return dw"
   ]
  },
  {
   "cell_type": "code",
   "execution_count": 46,
   "id": "263608b8-e190-4835-b1c9-353c013b3aad",
   "metadata": {},
   "outputs": [],
   "source": [
    "def optimize(theta, grad, lr=0.03):\n",
    "    theta -= grad * lr\n",
    "    return theta"
   ]
  },
  {
   "cell_type": "code",
   "execution_count": 47,
   "id": "2539f867-aa50-434a-8ab6-c306e8f842db",
   "metadata": {},
   "outputs": [],
   "source": [
    "theta = np.random.uniform(-1, 1, (2 * context_size * embed_dim, vocab_len))"
   ]
  },
  {
   "cell_type": "code",
   "execution_count": 48,
   "id": "7cad1d8c-70c9-474f-9a4e-382a6df43302",
   "metadata": {},
   "outputs": [],
   "source": [
    "epoch_losses = {}\n",
    "\n",
    "for epoch in range(150):\n",
    "\n",
    "    losses =  []\n",
    "\n",
    "    for context, target in data:\n",
    "        context_idxs = np.array([word_to_ix[w] for w in context])\n",
    "        preds = forward(context_idxs, theta)\n",
    "\n",
    "        target_idxs = np.array([word_to_ix[target]])\n",
    "        loss = NLLLoss(preds[-1], target_idxs)\n",
    "\n",
    "        losses.append(loss)\n",
    "\n",
    "        grad = backward(preds, theta, target_idxs)\n",
    "        theta = optimize(theta, grad, lr=0.03)\n",
    "        \n",
    "     \n",
    "    epoch_losses[epoch] = losses"
   ]
  },
  {
   "cell_type": "code",
   "execution_count": 57,
   "id": "88bf720a-25df-42fb-8c37-e73d87928268",
   "metadata": {},
   "outputs": [
    {
     "data": {
      "text/plain": [
       "Text(0, 0.5, 'Losses')"
      ]
     },
     "execution_count": 57,
     "metadata": {},
     "output_type": "execute_result"
    },
    {
     "data": {
      "image/png": "[encoded data removed]",
      "text/plain": [
       "<Figure size 640x480 with 1 Axes>"
      ]
     },
     "metadata": {},
     "output_type": "display_data"
    }
   ],
   "source": [
    "ix = np.arange(0,150)\n",
    "\n",
    "fig = plt.figure()\n",
    "fig.suptitle('Epoch/Losses', fontsize=20)\n",
    "plt.plot(ix,[epoch_losses[i][0] for i in ix])\n",
    "plt.xlabel('Epochs', fontsize=12)\n",
    "plt.ylabel('Losses', fontsize=12)"
   ]
  },
  {
   "cell_type": "markdown",
   "id": "37c01abb-8c8e-4bba-b1c9-a29cb370f8f1",
   "metadata": {},
   "source": [
    "Predict Function"
   ]
  },
  {
   "cell_type": "code",
   "execution_count": 50,
   "id": "aae40c1d-5f9d-4f73-a733-c7c99683e9e0",
   "metadata": {},
   "outputs": [],
   "source": [
    "def predict(words):\n",
    "    context_idxs = np.array([word_to_ix[w] for w in words])\n",
    "    preds = forward(context_idxs, theta)\n",
    "    word = ix_to_word[np.argmax(preds[-1])]\n",
    "    \n",
    "    return word"
   ]
  },
  {
   "cell_type": "code",
   "execution_count": 51,
   "id": "7d7a5c22-61a8-4726-af3d-166f6f10eba0",
   "metadata": {},
   "outputs": [
    {
     "data": {
      "text/plain": [
       "'home'"
      ]
     },
     "execution_count": 51,
     "metadata": {},
     "output_type": "execute_result"
    }
   ],
   "source": [
    "predict(['forest', 'is', 'to', 'thousands'])"
   ]
  },
  {
   "cell_type": "code",
   "execution_count": 52,
   "id": "2b2947b0-fe35-4f80-83a3-de093932784e",
   "metadata": {},
   "outputs": [
    {
     "data": {
      "text/plain": [
       "'life'"
      ]
     },
     "execution_count": 52,
     "metadata": {},
     "output_type": "execute_result"
    }
   ],
   "source": [
    "predict(['nature', 'balances', 'and', 'every'])"
   ]
  },
  {
   "cell_type": "code",
   "execution_count": 53,
   "id": "61456741-78b1-4b71-8055-4e68fa15092e",
   "metadata": {},
   "outputs": [],
   "source": [
    "def accuracy():\n",
    "    wrong = 0\n",
    "\n",
    "    for context, target in data:\n",
    "        if(predict(context) != target):\n",
    "            wrong += 1\n",
    "            \n",
    "    return (1 - (wrong / len(data)))"
   ]
  },
  {
   "cell_type": "code",
   "execution_count": 54,
   "id": "3cac479a-1a60-448f-8d01-97a7b1520d22",
   "metadata": {},
   "outputs": [
    {
     "data": {
      "text/plain": [
       "1.0"
      ]
     },
     "execution_count": 54,
     "metadata": {},
     "output_type": "execute_result"
    }
   ],
   "source": [
    "accuracy()"
   ]
  },
  {
   "cell_type": "code",
   "execution_count": 55,
   "id": "ea9410c5-5cb8-4db6-86aa-9b8055207f99",
   "metadata": {},
   "outputs": [
    {
     "name": "stdout",
     "output_type": "stream",
     "text": [
      "Word Prediction using CBOW Model\n",
      "Enter 4 context words (space separated):\n",
      "Please enter exactly 4 words.\n"
     ]
    }
   ],
   "source": [
    "# Simple user input for prediction\n",
    "print(\"Word Prediction using CBOW Model\")\n",
    "print(\"Enter 4 context words (space separated):\")\n",
    "\n",
    "user_input = input(\"Context words: \").strip().lower()\n",
    "context_words = user_input.split()\n",
    "\n",
    "if len(context_words) == 4:\n",
    "    # Check if all words are in vocabulary\n",
    "    valid_words = all(word in vocab for word in context_words)\n",
    "    \n",
    "    if valid_words:\n",
    "        predicted_word = predict(context_words)\n",
    "        print(f\"\\nContext: {context_words}\")\n",
    "        print(f\"Predicted target word: '{predicted_word}'\")\n",
    "    else:\n",
    "        print(f\"\\nError: One or more words not in vocabulary.\")\n",
    "        print(f\"Available vocabulary: {list(vocab)}\")\n",
    "else:\n",
    "    print(\"Please enter exactly 4 words.\")"
   ]
  },
  {
   "cell_type": "code",
   "execution_count": 56,
   "id": "f51f070a-e568-45e4-8653-e359ea4358ee",
   "metadata": {},
   "outputs": [],
   "source": [
    "#  Testcases \n",
    "# 'rivers', 'flow', 'the', 'valleys - through\n",
    "# 'forest', 'is', 'to', 'thousands']) - home \n",
    "# 'nature', 'balances', 'and', 'every' - life"
   ]
  },
  {
   "cell_type": "code",
   "execution_count": null,
   "id": "39108bc5-04af-4b8d-a4e3-51fd89798d47",
   "metadata": {},
   "outputs": [],
   "source": []
  }
 ],
 "metadata": {
  "kernelspec": {
   "display_name": "Python (myvenv)",
   "language": "python",
   "name": "tfenv"
  },
  "language_info": {
   "codemirror_mode": {
    "name": "ipython",
    "version": 3
   },
   "file_extension": ".py",
   "mimetype": "text/x-python",
   "name": "python",
   "nbconvert_exporter": "python",
   "pygments_lexer": "ipython3",
   "version": "3.12.10"
  }
 },
 "nbformat": 4,
 "nbformat_minor": 5
}
